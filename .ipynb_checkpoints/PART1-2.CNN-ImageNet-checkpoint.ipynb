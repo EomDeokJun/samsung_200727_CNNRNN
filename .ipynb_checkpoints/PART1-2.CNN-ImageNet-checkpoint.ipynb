{
 "cells": [
  {
   "cell_type": "markdown",
   "metadata": {
    "colab_type": "text",
    "id": "krkka5jdobrD"
   },
   "source": [
    "# ImageNet 학습하기"
   ]
  },
  {
   "cell_type": "markdown",
   "metadata": {
    "colab_type": "text",
    "id": "e1mt9bayoQhk"
   },
   "source": [
    "## ImageNet 데이터셋"
   ]
  },
  {
   "cell_type": "markdown",
   "metadata": {
    "colab_type": "text",
    "id": "GLpy6t3moQhl"
   },
   "source": [
    "ILSVRC: ImageNet Large Scale Visual Recognition Competetion[https://deepestdocs.readthedocs.io/en/latest/003_image_processing/0031/]<br>\n",
    "<p> ImageNet은 ILSVRC 챌린지에서 사용하는 데이터입니다. ImageNet 전 세계에서 모은 이미지들로 챌린지를 열어 누가 컴퓨터 비젼 분야에서 제일 뛰어난 기술을 갖고 있는지를 겨룹니다. 매년 새로운 승자가 등장하고, 그렇게 등장한 기술들은 거의 대부분 반드시 사용해야만 하는 기술이 되곤 합니다. </p>\n",
    "<p>1,000 종류의 1,281,167 개 데이터가 주어지고 데이터가 어떤 물체인지를 맞추는 챌린지입니다. 각 종류별 데이터의 갯수도 다릅니다. 분류 외에도 탐지(detection) 등 다른 부문도 있지만, 제일 유명한 것은 1,000 종류 분류입니다. 엄청나게 많은 데이터인데다, 전체를 합치면 200GB에 가깝습니다. 이 크기는 절대 GPU에 들어갈 수 없기 때문에 보통 특별한 방법을 써서 GPU 훈련을 시킵니다.</p> \n",
    "<p>논문에서 사용하는 ImageNet 데이터는 ILSVRC 2012 의 분류 문제에 사용된 데이터입니다. 실제로 ImageNet 데이터는 저게 전부가 아니고, 훨씬 많은 전 세계에서 모은 데이터들을 모아 놓은 사이트입니다. 다만 이 중 일부를 떼서 챌린지 용으로 사용하는 것 뿐입니다. ImageNet 회원이 되면 비상업적 목적으로 원본 이미지를 다운받을 수도 있고, 이미지의 URL만 받아 불러올 수도 있습니다. 하지만 훈련을 위해서는 역시 원본 이미지가 있어야 합니다. 이미지들의 크기도 전부 다르기 때문에 전처리도 필요합니다.</p>"
   ]
  },
  {
   "cell_type": "markdown",
   "metadata": {
    "colab_type": "text",
    "id": "68bUQJlRoQhm"
   },
   "source": [
    "## Tiny ImageNet\n",
    "<p>ImageNet은 200GB 넘어 다운받는데만도 하루 이상 걸리기 때문에, 오늘 실습에서는 Tiny ImageNet을 이용할 것입니다. Tiny ImageNet은 스탠포드 CS231N Convolutional Neural Networks for Visual Recognition 수업의 기본 코스 프로젝트에 사용되는 데이터셋입니다. </p>\n",
    "<p> Tiny Imagenet에는 200 개의 클래스가 있습니다. 각 이미지는 64 X 64로 축소 되었습니다. 각 클래스에는 500 개의 학습 이미지, 50 개의 검증 이미지 및 50 개의 테스트 이미지가 있습니다. </p>"
   ]
  },
  {
   "cell_type": "markdown",
   "metadata": {
    "colab_type": "text",
    "id": "5Is7gaWSoQhn"
   },
   "source": [
    "아래의 코드를 터미널 창에 입력하여 데이터셋을 다운받고 압축을 풀 수 있습니다. \n",
    "~~~\n",
    "wget http://cs231n.stanford.edu/tiny-imagenet-200.zip\n",
    "unzip tiny-imagenet-200.zip\n",
    "~~~"
   ]
  },
  {
   "cell_type": "code",
   "execution_count": 8,
   "metadata": {
    "colab": {
     "base_uri": "https://localhost:8080/",
     "height": 1000
    },
    "colab_type": "code",
    "id": "_Z0Cx7Dko71T",
    "outputId": "9ea4efda-c7e3-4b5c-fc5a-ecf8ccbbdb0a"
   },
   "outputs": [
    {
     "name": "stdout",
     "output_type": "stream",
     "text": [
      "  % Total    % Received % Xferd  Average Speed   Time    Time     Time  Current\n",
      "                                 Dload  Upload   Total   Spent    Left  Speed\n",
      "100  236M  100  236M    0     0  11.1M      0  0:00:21  0:00:21 --:--:-- 11.1M     0  0:01:03  0:00:04  0:00:59 3844k\n"
     ]
    }
   ],
   "source": [
    "!curl  http://cs231n.stanford.edu/tiny-imagenet-200.zip --output tiny-imagenet-200.zip\n",
    "!unzip -q tiny-imagenet-200.zip"
   ]
  },
  {
   "cell_type": "markdown",
   "metadata": {
    "colab_type": "text",
    "id": "rJUeRnURooF3"
   },
   "source": [
    "## Package 로드"
   ]
  },
  {
   "cell_type": "code",
   "execution_count": 1,
   "metadata": {
    "colab": {},
    "colab_type": "code",
    "id": "TX5xDGehly80"
   },
   "outputs": [],
   "source": [
    "import os\n",
    "import numpy as np\n",
    "import pandas as pd\n",
    "import matplotlib\n",
    "import matplotlib.pyplot as plt\n",
    "import matplotlib.image as mpimg\n",
    "from matplotlib.pyplot import imshow\n",
    "from tqdm import tqdm"
   ]
  },
  {
   "cell_type": "code",
   "execution_count": 2,
   "metadata": {
    "colab": {},
    "colab_type": "code",
    "id": "P_SBx8i8l-C-"
   },
   "outputs": [],
   "source": [
    "import tensorflow as tf\n",
    "from tensorflow.keras.applications.resnet50 import ResNet50, preprocess_input, decode_predictions\n",
    "from tensorflow.keras.layers import Input, Conv2D, Activation, BatchNormalization, GlobalAveragePooling2D, Dense, Dropout, Add, Flatten\n",
    "from tensorflow.keras.preprocessing.image import ImageDataGenerator, img_to_array\n",
    "from tensorflow.keras.activations import relu, softmax\n",
    "from tensorflow.keras.models import Model, Sequential\n",
    "from tensorflow.keras import regularizers, optimizers\n",
    "\n",
    "gpus = tf.config.experimental.list_physical_devices(device_type='GPU')\n",
    "tf.config.experimental.set_visible_devices(devices=gpus[1], device_type='GPU')"
   ]
  },
  {
   "cell_type": "code",
   "execution_count": 3,
   "metadata": {
    "colab": {},
    "colab_type": "code",
    "id": "b9cSNBhFEZqb"
   },
   "outputs": [],
   "source": [
    "from PIL import Image\n",
    "from urllib.request import urlopen"
   ]
  },
  {
   "cell_type": "code",
   "execution_count": 4,
   "metadata": {
    "colab": {},
    "colab_type": "code",
    "id": "nzXueinBmTWf"
   },
   "outputs": [],
   "source": [
    "from sklearn.preprocessing import OneHotEncoder, LabelEncoder\n",
    "from sklearn.model_selection import train_test_split"
   ]
  },
  {
   "cell_type": "code",
   "execution_count": 5,
   "metadata": {},
   "outputs": [],
   "source": [
    "from tensorflow.compat.v1 import ConfigProto\n",
    "from tensorflow.compat.v1 import InteractiveSession\n",
    "\n",
    "config = ConfigProto()\n",
    "config.gpu_options.allow_growth = True\n",
    "session = InteractiveSession(config=config)"
   ]
  },
  {
   "cell_type": "markdown",
   "metadata": {
    "colab_type": "text",
    "id": "Pl0xFDjiosNj"
   },
   "source": [
    "## 데이터셋 구조 살펴보기"
   ]
  },
  {
   "cell_type": "code",
   "execution_count": 6,
   "metadata": {
    "colab": {
     "base_uri": "https://localhost:8080/",
     "height": 1000
    },
    "colab_type": "code",
    "id": "kud6ZoK7oskA",
    "outputId": "b90099a3-0269-48dd-f647-b167ab4f847f"
   },
   "outputs": [
    {
     "data": {
      "text/plain": [
       "['n03796401',\n",
       " 'n04562935',\n",
       " 'n02892201',\n",
       " 'n02206856',\n",
       " 'n02125311',\n",
       " 'n09428293',\n",
       " 'n03160309',\n",
       " 'n12267677',\n",
       " 'n01910747',\n",
       " 'n07720875',\n",
       " 'n04486054',\n",
       " 'n04146614',\n",
       " 'n04560804',\n",
       " 'n02793495',\n",
       " 'n03444034',\n",
       " 'n01882714',\n",
       " 'n03179701',\n",
       " 'n04501370',\n",
       " 'n04366367',\n",
       " 'n03089624',\n",
       " 'n02481823',\n",
       " 'n04487081',\n",
       " 'n02231487',\n",
       " 'n03400231',\n",
       " 'n02233338',\n",
       " 'n04254777',\n",
       " 'n03937543',\n",
       " 'n07734744',\n",
       " 'n01644900',\n",
       " 'n02364673',\n",
       " 'n09246464',\n",
       " 'n02132136',\n",
       " 'n04465501',\n",
       " 'n02056570',\n",
       " 'n01443537',\n",
       " 'n04259630',\n",
       " 'n04376876',\n",
       " 'n03838899',\n",
       " 'n02837789',\n",
       " 'n03250847',\n",
       " 'n03814639',\n",
       " 'n02480495',\n",
       " 'n02504458',\n",
       " 'n02963159',\n",
       " 'n01983481',\n",
       " 'n04023962',\n",
       " 'n01742172',\n",
       " 'n01774384',\n",
       " 'n07715103',\n",
       " 'n02099712',\n",
       " 'n04179913',\n",
       " 'n02190166',\n",
       " 'n02843684',\n",
       " 'n03026506',\n",
       " 'n01944390',\n",
       " 'n07615774',\n",
       " 'n03393912',\n",
       " 'n04067472',\n",
       " 'n04540053',\n",
       " 'n02226429',\n",
       " 'n02906734',\n",
       " 'n03637318',\n",
       " 'n04507155',\n",
       " 'n02841315',\n",
       " 'n02094433',\n",
       " 'n03201208',\n",
       " 'n03126707',\n",
       " 'n07711569',\n",
       " 'n03902125',\n",
       " 'n01641577',\n",
       " 'n04074963',\n",
       " 'n01984695',\n",
       " 'n02123045',\n",
       " 'n09332890',\n",
       " 'n03617480',\n",
       " 'n02113799',\n",
       " 'n01698640',\n",
       " 'n03891332',\n",
       " 'n03733131',\n",
       " 'n02927161',\n",
       " 'n03980874',\n",
       " 'n04265275',\n",
       " 'n04597913',\n",
       " 'n02236044',\n",
       " 'n03804744',\n",
       " 'n02437312',\n",
       " 'n07695742',\n",
       " 'n04398044',\n",
       " 'n04275548',\n",
       " 'n03983396',\n",
       " 'n01917289',\n",
       " 'n03100240',\n",
       " 'n02106662',\n",
       " 'n04532106',\n",
       " 'n07583066',\n",
       " 'n04008634',\n",
       " 'n03424325',\n",
       " 'n03085013',\n",
       " 'n03014705',\n",
       " 'n07579787',\n",
       " 'n07920052',\n",
       " 'n03599486',\n",
       " 'n02802426',\n",
       " 'n02791270',\n",
       " 'n03837869',\n",
       " 'n07749582',\n",
       " 'n02699494',\n",
       " 'n02395406',\n",
       " 'n02909870',\n",
       " 'n02808440',\n",
       " 'n02730930',\n",
       " 'n02814860',\n",
       " 'n04118538',\n",
       " 'n01629819',\n",
       " 'n02279972',\n",
       " 'n02823428',\n",
       " 'n04099969',\n",
       " 'n01768244',\n",
       " 'n07747607',\n",
       " 'n03706229',\n",
       " 'n04532670',\n",
       " 'n04596742',\n",
       " 'n02769748',\n",
       " 'n01774750',\n",
       " 'n02917067',\n",
       " 'n07871810',\n",
       " 'n02788148',\n",
       " 'n04371430',\n",
       " 'n03355925',\n",
       " 'n02165456',\n",
       " 'n02099601',\n",
       " 'n02074367',\n",
       " 'n02423022',\n",
       " 'n02486410',\n",
       " 'n04285008',\n",
       " 'n03670208',\n",
       " 'n04417672',\n",
       " 'n02815834',\n",
       " 'n04149813',\n",
       " 'n03649909',\n",
       " 'n02988304',\n",
       " 'n02321529',\n",
       " 'n03976657',\n",
       " 'n03255030',\n",
       " 'n04328186',\n",
       " 'n03977966',\n",
       " 'n03404251',\n",
       " 'n07614500',\n",
       " 'n03584254',\n",
       " 'n02814533',\n",
       " 'n06596364',\n",
       " 'n04456115',\n",
       " 'n02124075',\n",
       " 'n03544143',\n",
       " 'n03854065',\n",
       " 'n04133789',\n",
       " 'n02950826',\n",
       " 'n03770439',\n",
       " 'n02948072',\n",
       " 'n07875152',\n",
       " 'n01770393',\n",
       " 'n02509815',\n",
       " 'n01855672',\n",
       " 'n03930313',\n",
       " 'n02666196',\n",
       " 'n03388043',\n",
       " 'n03447447',\n",
       " 'n02123394',\n",
       " 'n03763968',\n",
       " 'n02002724',\n",
       " 'n02403003',\n",
       " 'n02129165',\n",
       " 'n02410509',\n",
       " 'n07753592',\n",
       " 'n02999410',\n",
       " 'n09193705',\n",
       " 'n04399382',\n",
       " 'n07768694',\n",
       " 'n09256479',\n",
       " 'n04070727',\n",
       " 'n02415577',\n",
       " 'n04311004',\n",
       " 'n02883205',\n",
       " 'n03662601',\n",
       " 'n07873807',\n",
       " 'n02058221',\n",
       " 'n02268443',\n",
       " 'n02669723',\n",
       " 'n01945685',\n",
       " 'n03042490',\n",
       " 'n04356056',\n",
       " 'n04251144',\n",
       " 'n02281406',\n",
       " 'n02085620',\n",
       " 'n03992509',\n",
       " 'n03970156',\n",
       " 'n01950731',\n",
       " 'n01784675',\n",
       " 'n02977058',\n",
       " 'n02795169']"
      ]
     },
     "execution_count": 6,
     "metadata": {},
     "output_type": "execute_result"
    }
   ],
   "source": [
    "data_path = 'tiny-imagenet-200'\n",
    "\n",
    "# os.listdir을 통해 해당 path에 있는 폴더들을 리스트로 받아옵니다. \n",
    "os.listdir(os.path.join(data_path, 'train'))"
   ]
  },
  {
   "cell_type": "code",
   "execution_count": 7,
   "metadata": {
    "colab": {
     "base_uri": "https://localhost:8080/",
     "height": 1000
    },
    "colab_type": "code",
    "id": "R7aPNgfDpFV_",
    "outputId": "9feca675-1fa5-4263-ca01-6b4041b9b969"
   },
   "outputs": [
    {
     "name": "stdout",
     "output_type": "stream",
     "text": [
      "n03796401 폴더의 이미지 갯수: 500\n"
     ]
    },
    {
     "data": {
      "text/plain": [
       "['n03796401_120.JPEG',\n",
       " 'n03796401_27.JPEG',\n",
       " 'n03796401_394.JPEG',\n",
       " 'n03796401_170.JPEG',\n",
       " 'n03796401_151.JPEG',\n",
       " 'n03796401_391.JPEG',\n",
       " 'n03796401_93.JPEG',\n",
       " 'n03796401_439.JPEG',\n",
       " 'n03796401_420.JPEG',\n",
       " 'n03796401_467.JPEG',\n",
       " 'n03796401_296.JPEG',\n",
       " 'n03796401_444.JPEG',\n",
       " 'n03796401_397.JPEG',\n",
       " 'n03796401_176.JPEG',\n",
       " 'n03796401_318.JPEG',\n",
       " 'n03796401_194.JPEG',\n",
       " 'n03796401_184.JPEG',\n",
       " 'n03796401_171.JPEG',\n",
       " 'n03796401_221.JPEG',\n",
       " 'n03796401_451.JPEG',\n",
       " 'n03796401_71.JPEG',\n",
       " 'n03796401_70.JPEG',\n",
       " 'n03796401_278.JPEG',\n",
       " 'n03796401_477.JPEG',\n",
       " 'n03796401_311.JPEG',\n",
       " 'n03796401_432.JPEG',\n",
       " 'n03796401_179.JPEG',\n",
       " 'n03796401_111.JPEG',\n",
       " 'n03796401_23.JPEG',\n",
       " 'n03796401_155.JPEG',\n",
       " 'n03796401_449.JPEG',\n",
       " 'n03796401_57.JPEG',\n",
       " 'n03796401_390.JPEG',\n",
       " 'n03796401_41.JPEG',\n",
       " 'n03796401_490.JPEG',\n",
       " 'n03796401_130.JPEG',\n",
       " 'n03796401_48.JPEG',\n",
       " 'n03796401_457.JPEG',\n",
       " 'n03796401_260.JPEG',\n",
       " 'n03796401_300.JPEG',\n",
       " 'n03796401_408.JPEG',\n",
       " 'n03796401_305.JPEG',\n",
       " 'n03796401_492.JPEG',\n",
       " 'n03796401_114.JPEG',\n",
       " 'n03796401_399.JPEG',\n",
       " 'n03796401_81.JPEG',\n",
       " 'n03796401_354.JPEG',\n",
       " 'n03796401_45.JPEG',\n",
       " 'n03796401_18.JPEG',\n",
       " 'n03796401_142.JPEG',\n",
       " 'n03796401_159.JPEG',\n",
       " 'n03796401_259.JPEG',\n",
       " 'n03796401_384.JPEG',\n",
       " 'n03796401_134.JPEG',\n",
       " 'n03796401_56.JPEG',\n",
       " 'n03796401_15.JPEG',\n",
       " 'n03796401_465.JPEG',\n",
       " 'n03796401_180.JPEG',\n",
       " 'n03796401_209.JPEG',\n",
       " 'n03796401_50.JPEG',\n",
       " 'n03796401_486.JPEG',\n",
       " 'n03796401_231.JPEG',\n",
       " 'n03796401_135.JPEG',\n",
       " 'n03796401_1.JPEG',\n",
       " 'n03796401_462.JPEG',\n",
       " 'n03796401_73.JPEG',\n",
       " 'n03796401_89.JPEG',\n",
       " 'n03796401_144.JPEG',\n",
       " 'n03796401_85.JPEG',\n",
       " 'n03796401_344.JPEG',\n",
       " 'n03796401_363.JPEG',\n",
       " 'n03796401_290.JPEG',\n",
       " 'n03796401_306.JPEG',\n",
       " 'n03796401_198.JPEG',\n",
       " 'n03796401_263.JPEG',\n",
       " 'n03796401_442.JPEG',\n",
       " 'n03796401_145.JPEG',\n",
       " 'n03796401_175.JPEG',\n",
       " 'n03796401_55.JPEG',\n",
       " 'n03796401_219.JPEG',\n",
       " 'n03796401_164.JPEG',\n",
       " 'n03796401_313.JPEG',\n",
       " 'n03796401_191.JPEG',\n",
       " 'n03796401_331.JPEG',\n",
       " 'n03796401_295.JPEG',\n",
       " 'n03796401_335.JPEG',\n",
       " 'n03796401_103.JPEG',\n",
       " 'n03796401_407.JPEG',\n",
       " 'n03796401_147.JPEG',\n",
       " 'n03796401_357.JPEG',\n",
       " 'n03796401_293.JPEG',\n",
       " 'n03796401_223.JPEG',\n",
       " 'n03796401_217.JPEG',\n",
       " 'n03796401_440.JPEG',\n",
       " 'n03796401_119.JPEG',\n",
       " 'n03796401_475.JPEG',\n",
       " 'n03796401_20.JPEG',\n",
       " 'n03796401_256.JPEG',\n",
       " 'n03796401_182.JPEG',\n",
       " 'n03796401_479.JPEG',\n",
       " 'n03796401_288.JPEG',\n",
       " 'n03796401_325.JPEG',\n",
       " 'n03796401_88.JPEG',\n",
       " 'n03796401_320.JPEG',\n",
       " 'n03796401_429.JPEG',\n",
       " 'n03796401_482.JPEG',\n",
       " 'n03796401_153.JPEG',\n",
       " 'n03796401_216.JPEG',\n",
       " 'n03796401_348.JPEG',\n",
       " 'n03796401_360.JPEG',\n",
       " 'n03796401_165.JPEG',\n",
       " 'n03796401_310.JPEG',\n",
       " 'n03796401_413.JPEG',\n",
       " 'n03796401_350.JPEG',\n",
       " 'n03796401_375.JPEG',\n",
       " 'n03796401_437.JPEG',\n",
       " 'n03796401_340.JPEG',\n",
       " 'n03796401_189.JPEG',\n",
       " 'n03796401_364.JPEG',\n",
       " 'n03796401_104.JPEG',\n",
       " 'n03796401_213.JPEG',\n",
       " 'n03796401_7.JPEG',\n",
       " 'n03796401_87.JPEG',\n",
       " 'n03796401_59.JPEG',\n",
       " 'n03796401_199.JPEG',\n",
       " 'n03796401_401.JPEG',\n",
       " 'n03796401_94.JPEG',\n",
       " 'n03796401_336.JPEG',\n",
       " 'n03796401_37.JPEG',\n",
       " 'n03796401_17.JPEG',\n",
       " 'n03796401_76.JPEG',\n",
       " 'n03796401_117.JPEG',\n",
       " 'n03796401_423.JPEG',\n",
       " 'n03796401_95.JPEG',\n",
       " 'n03796401_131.JPEG',\n",
       " 'n03796401_242.JPEG',\n",
       " 'n03796401_287.JPEG',\n",
       " 'n03796401_452.JPEG',\n",
       " 'n03796401_480.JPEG',\n",
       " 'n03796401_32.JPEG',\n",
       " 'n03796401_307.JPEG',\n",
       " 'n03796401_166.JPEG',\n",
       " 'n03796401_249.JPEG',\n",
       " 'n03796401_253.JPEG',\n",
       " 'n03796401_205.JPEG',\n",
       " 'n03796401_234.JPEG',\n",
       " 'n03796401_315.JPEG',\n",
       " 'n03796401_218.JPEG',\n",
       " 'n03796401_338.JPEG',\n",
       " 'n03796401_215.JPEG',\n",
       " 'n03796401_372.JPEG',\n",
       " 'n03796401_82.JPEG',\n",
       " 'n03796401_16.JPEG',\n",
       " 'n03796401_353.JPEG',\n",
       " 'n03796401_418.JPEG',\n",
       " 'n03796401_343.JPEG',\n",
       " 'n03796401_141.JPEG',\n",
       " 'n03796401_478.JPEG',\n",
       " 'n03796401_468.JPEG',\n",
       " 'n03796401_247.JPEG',\n",
       " 'n03796401_124.JPEG',\n",
       " 'n03796401_178.JPEG',\n",
       " 'n03796401_484.JPEG',\n",
       " 'n03796401_388.JPEG',\n",
       " 'n03796401_28.JPEG',\n",
       " 'n03796401_193.JPEG',\n",
       " 'n03796401_254.JPEG',\n",
       " 'n03796401_309.JPEG',\n",
       " 'n03796401_472.JPEG',\n",
       " 'n03796401_212.JPEG',\n",
       " 'n03796401_122.JPEG',\n",
       " 'n03796401_181.JPEG',\n",
       " 'n03796401_72.JPEG',\n",
       " 'n03796401_66.JPEG',\n",
       " 'n03796401_427.JPEG',\n",
       " 'n03796401_446.JPEG',\n",
       " 'n03796401_237.JPEG',\n",
       " 'n03796401_371.JPEG',\n",
       " 'n03796401_132.JPEG',\n",
       " 'n03796401_162.JPEG',\n",
       " 'n03796401_282.JPEG',\n",
       " 'n03796401_329.JPEG',\n",
       " 'n03796401_96.JPEG',\n",
       " 'n03796401_24.JPEG',\n",
       " 'n03796401_402.JPEG',\n",
       " 'n03796401_99.JPEG',\n",
       " 'n03796401_156.JPEG',\n",
       " 'n03796401_186.JPEG',\n",
       " 'n03796401_211.JPEG',\n",
       " 'n03796401_284.JPEG',\n",
       " 'n03796401_140.JPEG',\n",
       " 'n03796401_448.JPEG',\n",
       " 'n03796401_261.JPEG',\n",
       " 'n03796401_167.JPEG',\n",
       " 'n03796401_10.JPEG',\n",
       " 'n03796401_411.JPEG',\n",
       " 'n03796401_246.JPEG',\n",
       " 'n03796401_355.JPEG',\n",
       " 'n03796401_5.JPEG',\n",
       " 'n03796401_416.JPEG',\n",
       " 'n03796401_381.JPEG',\n",
       " 'n03796401_74.JPEG',\n",
       " 'n03796401_39.JPEG',\n",
       " 'n03796401_450.JPEG',\n",
       " 'n03796401_106.JPEG',\n",
       " 'n03796401_26.JPEG',\n",
       " 'n03796401_172.JPEG',\n",
       " 'n03796401_34.JPEG',\n",
       " 'n03796401_269.JPEG',\n",
       " 'n03796401_422.JPEG',\n",
       " 'n03796401_438.JPEG',\n",
       " 'n03796401_19.JPEG',\n",
       " 'n03796401_322.JPEG',\n",
       " 'n03796401_428.JPEG',\n",
       " 'n03796401_250.JPEG',\n",
       " 'n03796401_64.JPEG',\n",
       " 'n03796401_383.JPEG',\n",
       " 'n03796401_333.JPEG',\n",
       " 'n03796401_232.JPEG',\n",
       " 'n03796401_485.JPEG',\n",
       " 'n03796401_396.JPEG',\n",
       " 'n03796401_327.JPEG',\n",
       " 'n03796401_312.JPEG',\n",
       " 'n03796401_227.JPEG',\n",
       " 'n03796401_445.JPEG',\n",
       " 'n03796401_102.JPEG',\n",
       " 'n03796401_304.JPEG',\n",
       " 'n03796401_13.JPEG',\n",
       " 'n03796401_281.JPEG',\n",
       " 'n03796401_129.JPEG',\n",
       " 'n03796401_77.JPEG',\n",
       " 'n03796401_177.JPEG',\n",
       " 'n03796401_395.JPEG',\n",
       " 'n03796401_107.JPEG',\n",
       " 'n03796401_339.JPEG',\n",
       " 'n03796401_280.JPEG',\n",
       " 'n03796401_273.JPEG',\n",
       " 'n03796401_271.JPEG',\n",
       " 'n03796401_298.JPEG',\n",
       " 'n03796401_109.JPEG',\n",
       " 'n03796401_25.JPEG',\n",
       " 'n03796401_185.JPEG',\n",
       " 'n03796401_257.JPEG',\n",
       " 'n03796401_496.JPEG',\n",
       " 'n03796401_279.JPEG',\n",
       " 'n03796401_116.JPEG',\n",
       " 'n03796401_464.JPEG',\n",
       " 'n03796401_196.JPEG',\n",
       " 'n03796401_3.JPEG',\n",
       " 'n03796401_358.JPEG',\n",
       " 'n03796401_392.JPEG',\n",
       " 'n03796401_324.JPEG',\n",
       " 'n03796401_51.JPEG',\n",
       " 'n03796401_349.JPEG',\n",
       " 'n03796401_251.JPEG',\n",
       " 'n03796401_252.JPEG',\n",
       " 'n03796401_283.JPEG',\n",
       " 'n03796401_463.JPEG',\n",
       " 'n03796401_121.JPEG',\n",
       " 'n03796401_361.JPEG',\n",
       " 'n03796401_268.JPEG',\n",
       " 'n03796401_38.JPEG',\n",
       " 'n03796401_461.JPEG',\n",
       " 'n03796401_359.JPEG',\n",
       " 'n03796401_316.JPEG',\n",
       " 'n03796401_365.JPEG',\n",
       " 'n03796401_190.JPEG',\n",
       " 'n03796401_65.JPEG',\n",
       " 'n03796401_244.JPEG',\n",
       " 'n03796401_58.JPEG',\n",
       " 'n03796401_204.JPEG',\n",
       " 'n03796401_410.JPEG',\n",
       " 'n03796401_68.JPEG',\n",
       " 'n03796401_386.JPEG',\n",
       " 'n03796401_297.JPEG',\n",
       " 'n03796401_393.JPEG',\n",
       " 'n03796401_455.JPEG',\n",
       " 'n03796401_61.JPEG',\n",
       " 'n03796401_493.JPEG',\n",
       " 'n03796401_101.JPEG',\n",
       " 'n03796401_466.JPEG',\n",
       " 'n03796401_274.JPEG',\n",
       " 'n03796401_148.JPEG',\n",
       " 'n03796401_400.JPEG',\n",
       " 'n03796401_43.JPEG',\n",
       " 'n03796401_91.JPEG',\n",
       " 'n03796401_291.JPEG',\n",
       " 'n03796401_52.JPEG',\n",
       " 'n03796401_11.JPEG',\n",
       " 'n03796401_294.JPEG',\n",
       " 'n03796401_376.JPEG',\n",
       " 'n03796401_470.JPEG',\n",
       " 'n03796401_243.JPEG',\n",
       " 'n03796401_498.JPEG',\n",
       " 'n03796401_112.JPEG',\n",
       " 'n03796401_378.JPEG',\n",
       " 'n03796401_108.JPEG',\n",
       " 'n03796401_289.JPEG',\n",
       " 'n03796401_264.JPEG',\n",
       " 'n03796401_275.JPEG',\n",
       " 'n03796401_173.JPEG',\n",
       " 'n03796401_458.JPEG',\n",
       " 'n03796401_67.JPEG',\n",
       " 'n03796401_447.JPEG',\n",
       " 'n03796401_379.JPEG',\n",
       " 'n03796401_328.JPEG',\n",
       " 'n03796401_404.JPEG',\n",
       " 'n03796401_370.JPEG',\n",
       " 'n03796401_255.JPEG',\n",
       " 'n03796401_49.JPEG',\n",
       " 'n03796401_495.JPEG',\n",
       " 'n03796401_308.JPEG',\n",
       " 'n03796401_497.JPEG',\n",
       " 'n03796401_321.JPEG',\n",
       " 'n03796401_317.JPEG',\n",
       " 'n03796401_75.JPEG',\n",
       " 'n03796401_8.JPEG',\n",
       " 'n03796401_499.JPEG',\n",
       " 'n03796401_421.JPEG',\n",
       " 'n03796401_337.JPEG',\n",
       " 'n03796401_83.JPEG',\n",
       " 'n03796401_98.JPEG',\n",
       " 'n03796401_163.JPEG',\n",
       " 'n03796401_202.JPEG',\n",
       " 'n03796401_42.JPEG',\n",
       " 'n03796401_44.JPEG',\n",
       " 'n03796401_366.JPEG',\n",
       " 'n03796401_60.JPEG',\n",
       " 'n03796401_86.JPEG',\n",
       " 'n03796401_341.JPEG',\n",
       " 'n03796401_471.JPEG',\n",
       " 'n03796401_79.JPEG',\n",
       " 'n03796401_35.JPEG',\n",
       " 'n03796401_483.JPEG',\n",
       " 'n03796401_425.JPEG',\n",
       " 'n03796401_157.JPEG',\n",
       " 'n03796401_270.JPEG',\n",
       " 'n03796401_187.JPEG',\n",
       " 'n03796401_197.JPEG',\n",
       " 'n03796401_351.JPEG',\n",
       " 'n03796401_373.JPEG',\n",
       " 'n03796401_138.JPEG',\n",
       " 'n03796401_409.JPEG',\n",
       " 'n03796401_277.JPEG',\n",
       " 'n03796401_195.JPEG',\n",
       " 'n03796401_183.JPEG',\n",
       " 'n03796401_54.JPEG',\n",
       " 'n03796401_398.JPEG',\n",
       " 'n03796401_133.JPEG',\n",
       " 'n03796401_31.JPEG',\n",
       " 'n03796401_377.JPEG',\n",
       " 'n03796401_152.JPEG',\n",
       " 'n03796401_345.JPEG',\n",
       " 'n03796401_0.JPEG',\n",
       " 'n03796401_46.JPEG',\n",
       " 'n03796401_434.JPEG',\n",
       " 'n03796401_149.JPEG',\n",
       " 'n03796401_110.JPEG',\n",
       " 'n03796401_229.JPEG',\n",
       " 'n03796401_161.JPEG',\n",
       " 'n03796401_154.JPEG',\n",
       " 'n03796401_230.JPEG',\n",
       " 'n03796401_62.JPEG',\n",
       " 'n03796401_90.JPEG',\n",
       " 'n03796401_469.JPEG',\n",
       " 'n03796401_136.JPEG',\n",
       " 'n03796401_146.JPEG',\n",
       " 'n03796401_330.JPEG',\n",
       " 'n03796401_299.JPEG',\n",
       " 'n03796401_430.JPEG',\n",
       " 'n03796401_265.JPEG',\n",
       " 'n03796401_105.JPEG',\n",
       " 'n03796401_412.JPEG',\n",
       " 'n03796401_356.JPEG',\n",
       " 'n03796401_436.JPEG',\n",
       " 'n03796401_332.JPEG',\n",
       " 'n03796401_207.JPEG',\n",
       " 'n03796401_125.JPEG',\n",
       " 'n03796401_118.JPEG',\n",
       " 'n03796401_240.JPEG',\n",
       " 'n03796401_139.JPEG',\n",
       " 'n03796401_174.JPEG',\n",
       " 'n03796401_424.JPEG',\n",
       " 'n03796401_14.JPEG',\n",
       " 'n03796401_342.JPEG',\n",
       " 'n03796401_248.JPEG',\n",
       " 'n03796401_123.JPEG',\n",
       " 'n03796401_40.JPEG',\n",
       " 'n03796401_36.JPEG',\n",
       " 'n03796401_206.JPEG',\n",
       " 'n03796401_262.JPEG',\n",
       " 'n03796401_245.JPEG',\n",
       " 'n03796401_474.JPEG',\n",
       " 'n03796401_382.JPEG',\n",
       " 'n03796401_369.JPEG',\n",
       " 'n03796401_2.JPEG',\n",
       " 'n03796401_419.JPEG',\n",
       " 'n03796401_9.JPEG',\n",
       " 'n03796401_314.JPEG',\n",
       " 'n03796401_403.JPEG',\n",
       " 'n03796401_292.JPEG',\n",
       " 'n03796401_380.JPEG',\n",
       " 'n03796401_201.JPEG',\n",
       " 'n03796401_30.JPEG',\n",
       " 'n03796401_80.JPEG',\n",
       " 'n03796401_454.JPEG',\n",
       " 'n03796401_127.JPEG',\n",
       " 'n03796401_233.JPEG',\n",
       " 'n03796401_137.JPEG',\n",
       " 'n03796401_266.JPEG',\n",
       " 'n03796401_188.JPEG',\n",
       " 'n03796401_29.JPEG',\n",
       " 'n03796401_453.JPEG',\n",
       " 'n03796401_160.JPEG',\n",
       " 'n03796401_387.JPEG',\n",
       " 'n03796401_239.JPEG',\n",
       " 'n03796401_389.JPEG',\n",
       " 'n03796401_367.JPEG',\n",
       " 'n03796401_302.JPEG',\n",
       " 'n03796401_481.JPEG',\n",
       " 'n03796401_487.JPEG',\n",
       " 'n03796401_267.JPEG',\n",
       " 'n03796401_226.JPEG',\n",
       " 'n03796401_126.JPEG',\n",
       " 'n03796401_385.JPEG',\n",
       " 'n03796401_443.JPEG',\n",
       " 'n03796401_435.JPEG',\n",
       " 'n03796401_115.JPEG',\n",
       " 'n03796401_346.JPEG',\n",
       " 'n03796401_4.JPEG',\n",
       " 'n03796401_236.JPEG',\n",
       " 'n03796401_97.JPEG',\n",
       " 'n03796401_238.JPEG',\n",
       " 'n03796401_326.JPEG',\n",
       " 'n03796401_426.JPEG',\n",
       " 'n03796401_208.JPEG',\n",
       " 'n03796401_33.JPEG',\n",
       " 'n03796401_347.JPEG',\n",
       " 'n03796401_374.JPEG',\n",
       " 'n03796401_225.JPEG',\n",
       " 'n03796401_417.JPEG',\n",
       " 'n03796401_334.JPEG',\n",
       " 'n03796401_323.JPEG',\n",
       " 'n03796401_476.JPEG',\n",
       " 'n03796401_460.JPEG',\n",
       " 'n03796401_441.JPEG',\n",
       " 'n03796401_192.JPEG',\n",
       " 'n03796401_200.JPEG',\n",
       " 'n03796401_214.JPEG',\n",
       " 'n03796401_276.JPEG',\n",
       " 'n03796401_228.JPEG',\n",
       " 'n03796401_113.JPEG',\n",
       " 'n03796401_158.JPEG',\n",
       " 'n03796401_169.JPEG',\n",
       " 'n03796401_431.JPEG',\n",
       " 'n03796401_69.JPEG',\n",
       " 'n03796401_286.JPEG',\n",
       " 'n03796401_168.JPEG',\n",
       " 'n03796401_150.JPEG',\n",
       " 'n03796401_203.JPEG',\n",
       " 'n03796401_319.JPEG',\n",
       " 'n03796401_128.JPEG',\n",
       " 'n03796401_368.JPEG',\n",
       " 'n03796401_362.JPEG',\n",
       " 'n03796401_258.JPEG',\n",
       " 'n03796401_301.JPEG',\n",
       " 'n03796401_100.JPEG',\n",
       " 'n03796401_456.JPEG',\n",
       " 'n03796401_53.JPEG',\n",
       " 'n03796401_220.JPEG',\n",
       " 'n03796401_489.JPEG',\n",
       " 'n03796401_222.JPEG',\n",
       " 'n03796401_405.JPEG',\n",
       " 'n03796401_78.JPEG',\n",
       " 'n03796401_433.JPEG',\n",
       " 'n03796401_84.JPEG',\n",
       " 'n03796401_272.JPEG',\n",
       " 'n03796401_210.JPEG',\n",
       " 'n03796401_224.JPEG',\n",
       " 'n03796401_47.JPEG',\n",
       " 'n03796401_22.JPEG',\n",
       " 'n03796401_143.JPEG',\n",
       " 'n03796401_285.JPEG',\n",
       " 'n03796401_241.JPEG',\n",
       " 'n03796401_459.JPEG',\n",
       " 'n03796401_12.JPEG',\n",
       " 'n03796401_235.JPEG',\n",
       " 'n03796401_6.JPEG',\n",
       " 'n03796401_63.JPEG',\n",
       " 'n03796401_473.JPEG',\n",
       " 'n03796401_488.JPEG',\n",
       " 'n03796401_414.JPEG',\n",
       " 'n03796401_92.JPEG',\n",
       " 'n03796401_352.JPEG',\n",
       " 'n03796401_303.JPEG',\n",
       " 'n03796401_21.JPEG',\n",
       " 'n03796401_494.JPEG',\n",
       " 'n03796401_406.JPEG',\n",
       " 'n03796401_491.JPEG',\n",
       " 'n03796401_415.JPEG']"
      ]
     },
     "execution_count": 7,
     "metadata": {},
     "output_type": "execute_result"
    }
   ],
   "source": [
    "tmp_path = os.path.join(data_path, 'train')\n",
    "img_id = os.listdir(tmp_path)[0]\n",
    "print ('{0} 폴더의 이미지 갯수: {1}'.format(img_id, len(os.listdir(os.path.join(tmp_path, img_id, 'images')))))\n",
    "os.listdir(os.path.join(tmp_path, img_id, 'images'))"
   ]
  },
  {
   "cell_type": "markdown",
   "metadata": {
    "colab_type": "text",
    "id": "2-7GoZhNqff1"
   },
   "source": [
    "## 데이터 로드"
   ]
  },
  {
   "cell_type": "markdown",
   "metadata": {
    "colab_type": "text",
    "id": "-9gH-VhHtDqH"
   },
   "source": [
    "### Train-set 불러오기"
   ]
  },
  {
   "cell_type": "code",
   "execution_count": 8,
   "metadata": {
    "colab": {},
    "colab_type": "code",
    "id": "wC22IEUdpHLq"
   },
   "outputs": [],
   "source": [
    "# mini batch size를 16으로 설정합니다.\n",
    "BATCH_SIZE = 64\n",
    "# Tiny ImageNet의 class 수 200을 NUM_CLASSES에 저장합니다.\n",
    "NUM_CLASSES = 200\n",
    "NUM_IMAGES_PER_CLASS = 500\n",
    "NUM_IMAGES = NUM_CLASSES * NUM_IMAGES_PER_CLASS\n",
    "NUM_VAL_IMAGES = 10000\n",
    "\n",
    "# train-set image가 저장되어있는 장소를 저장합니다.\n",
    "# validation-set image가 저장되어 있는 장소를 저장합니다.\n",
    "# test-set image가 저장되어 있는 장소를 저장합니다.\n",
    "BASE_DIR = './'\n",
    "TRAINING_IMAGES_DIR = BASE_DIR + 'tiny-imagenet-200/train/'\n",
    "VAL_IMAGES_DIR = BASE_DIR + 'tiny-imagenet-200/val/'\n",
    "TEST_IMAGES_DIR = BASE_DIR + 'tiny-imagenet-200/test/'\n",
    "\n",
    "# Tiny ImageNet의 기본 image size인 64를 저장합니다.\n",
    "IMAGE_SIZE = 64\n",
    "NUM_CHANNELS = 3"
   ]
  },
  {
   "cell_type": "code",
   "execution_count": 9,
   "metadata": {
    "colab": {
     "base_uri": "https://localhost:8080/",
     "height": 34
    },
    "colab_type": "code",
    "id": "SUm-HPaVpcRn",
    "outputId": "4a908b11-1cc7-4df9-f21f-46f6c2481c4b"
   },
   "outputs": [
    {
     "name": "stderr",
     "output_type": "stream",
     "text": [
      "100%|██████████| 200/200 [02:52<00:00,  1.16it/s]\n"
     ]
    }
   ],
   "source": [
    "# Train-set을 읽어와 images에 이미지 데이터, labels에 정답, names에 이미지 파일 이름을 저장합니다.\n",
    "images = []\n",
    "labels = []\n",
    "names = []\n",
    "\n",
    "for label in tqdm(os.listdir(TRAINING_IMAGES_DIR)):\n",
    "  #print (label)\n",
    "  for example in os.listdir(os.path.join(TRAINING_IMAGES_DIR, label, 'images')):\n",
    "    image_file = os.path.join(TRAINING_IMAGES_DIR, label, 'images', example)\n",
    "    image_data = Image.open(image_file)\n",
    "    image_data = image_data.resize((IMAGE_SIZE,IMAGE_SIZE))\n",
    "    image_data = np.array(image_data)\n",
    "    \n",
    "    if (image_data.shape == (IMAGE_SIZE, IMAGE_SIZE, NUM_CHANNELS)):\n",
    "      images.append(image_data)\n",
    "      labels.append(label)\n",
    "      names.append(example)\n",
    "images = np.asarray(images)\n",
    "labels = np.asarray(labels)\n",
    "names = np.asarray(names)"
   ]
  },
  {
   "cell_type": "code",
   "execution_count": 10,
   "metadata": {
    "colab": {},
    "colab_type": "code",
    "id": "ctqBAUtkqJ_v"
   },
   "outputs": [],
   "source": [
    "# 저장해놓은 데이터를 헷갈리지 않도록 training이 붙은 변수에 복사합니다.\n",
    "training_images, training_labels, training_files = images, labels, names"
   ]
  },
  {
   "cell_type": "markdown",
   "metadata": {
    "colab_type": "text",
    "id": "b6skwsactZ7_"
   },
   "source": [
    "### Validation-set 불러오기"
   ]
  },
  {
   "cell_type": "code",
   "execution_count": 28,
   "metadata": {
    "colab": {
     "base_uri": "https://localhost:8080/",
     "height": 34
    },
    "colab_type": "code",
    "id": "4fvJOgAQqor-",
    "outputId": "33cffe43-7f96-4825-98e7-dc71e4980b1c"
   },
   "outputs": [
    {
     "data": {
      "text/plain": [
       "['images', 'val_annotations.txt']"
      ]
     },
     "execution_count": 28,
     "metadata": {},
     "output_type": "execute_result"
    }
   ],
   "source": [
    "# VAL_IMAGES_DIR 위치에는 images 폴더와 val_annotations.txt 파일이 있습니다.\n",
    "os.listdir(VAL_IMAGES_DIR)"
   ]
  },
  {
   "cell_type": "code",
   "execution_count": 29,
   "metadata": {
    "colab": {
     "base_uri": "https://localhost:8080/",
     "height": 195
    },
    "colab_type": "code",
    "id": "SVqZVRXxtpzW",
    "outputId": "cd8ee9d7-4083-48f4-f369-7e67d6a7b51e"
   },
   "outputs": [
    {
     "data": {
      "text/html": [
       "<div>\n",
       "<style scoped>\n",
       "    .dataframe tbody tr th:only-of-type {\n",
       "        vertical-align: middle;\n",
       "    }\n",
       "\n",
       "    .dataframe tbody tr th {\n",
       "        vertical-align: top;\n",
       "    }\n",
       "\n",
       "    .dataframe thead th {\n",
       "        text-align: right;\n",
       "    }\n",
       "</style>\n",
       "<table border=\"1\" class=\"dataframe\">\n",
       "  <thead>\n",
       "    <tr style=\"text-align: right;\">\n",
       "      <th></th>\n",
       "      <th>File</th>\n",
       "      <th>Class</th>\n",
       "      <th>X</th>\n",
       "      <th>Y</th>\n",
       "      <th>H</th>\n",
       "      <th>W</th>\n",
       "    </tr>\n",
       "  </thead>\n",
       "  <tbody>\n",
       "    <tr>\n",
       "      <th>0</th>\n",
       "      <td>val_0.JPEG</td>\n",
       "      <td>n03444034</td>\n",
       "      <td>0</td>\n",
       "      <td>32</td>\n",
       "      <td>44</td>\n",
       "      <td>62</td>\n",
       "    </tr>\n",
       "    <tr>\n",
       "      <th>1</th>\n",
       "      <td>val_1.JPEG</td>\n",
       "      <td>n04067472</td>\n",
       "      <td>52</td>\n",
       "      <td>55</td>\n",
       "      <td>57</td>\n",
       "      <td>59</td>\n",
       "    </tr>\n",
       "    <tr>\n",
       "      <th>2</th>\n",
       "      <td>val_2.JPEG</td>\n",
       "      <td>n04070727</td>\n",
       "      <td>4</td>\n",
       "      <td>0</td>\n",
       "      <td>60</td>\n",
       "      <td>55</td>\n",
       "    </tr>\n",
       "    <tr>\n",
       "      <th>3</th>\n",
       "      <td>val_3.JPEG</td>\n",
       "      <td>n02808440</td>\n",
       "      <td>3</td>\n",
       "      <td>3</td>\n",
       "      <td>63</td>\n",
       "      <td>63</td>\n",
       "    </tr>\n",
       "    <tr>\n",
       "      <th>4</th>\n",
       "      <td>val_4.JPEG</td>\n",
       "      <td>n02808440</td>\n",
       "      <td>9</td>\n",
       "      <td>27</td>\n",
       "      <td>63</td>\n",
       "      <td>48</td>\n",
       "    </tr>\n",
       "  </tbody>\n",
       "</table>\n",
       "</div>"
      ],
      "text/plain": [
       "         File      Class   X   Y   H   W\n",
       "0  val_0.JPEG  n03444034   0  32  44  62\n",
       "1  val_1.JPEG  n04067472  52  55  57  59\n",
       "2  val_2.JPEG  n04070727   4   0  60  55\n",
       "3  val_3.JPEG  n02808440   3   3  63  63\n",
       "4  val_4.JPEG  n02808440   9  27  63  48"
      ]
     },
     "execution_count": 29,
     "metadata": {},
     "output_type": "execute_result"
    }
   ],
   "source": [
    "# train 구조와는 다르게 validation 은 images 파일안에 모든 이미지가 들어있고 \n",
    "# 정답은 val_annotations.txt에 있습니다.\n",
    "# val_annoations.txt를 읽어옵니다. \n",
    "val_data = pd.read_csv(VAL_IMAGES_DIR + 'val_annotations.txt', sep='\\t', header=None, names=['File', 'Class', 'X', 'Y', 'H', 'W'])\n",
    "val_data.head()"
   ]
  },
  {
   "cell_type": "code",
   "execution_count": 30,
   "metadata": {
    "colab": {},
    "colab_type": "code",
    "id": "XFX3B8ruyf_q"
   },
   "outputs": [],
   "source": [
    "name2label = val_data.set_index('File')['Class'].to_dict()"
   ]
  },
  {
   "cell_type": "code",
   "execution_count": 31,
   "metadata": {
    "colab": {
     "base_uri": "https://localhost:8080/",
     "height": 34
    },
    "colab_type": "code",
    "id": "r5Ct1ad2y2h-",
    "outputId": "7121f4ab-0790-4402-8321-4d8e874f5294"
   },
   "outputs": [
    {
     "data": {
      "text/plain": [
       "'n04067472'"
      ]
     },
     "execution_count": 31,
     "metadata": {},
     "output_type": "execute_result"
    }
   ],
   "source": [
    "name2label['val_1.JPEG']"
   ]
  },
  {
   "cell_type": "code",
   "execution_count": 23,
   "metadata": {
    "colab": {
     "base_uri": "https://localhost:8080/",
     "height": 34
    },
    "colab_type": "code",
    "id": "TA4kauocuXiR",
    "outputId": "eeafef69-ce17-46fb-b503-c1501f3b25d0"
   },
   "outputs": [
    {
     "name": "stderr",
     "output_type": "stream",
     "text": [
      "100%|██████████| 10000/10000 [00:30<00:00, 330.97it/s]\n"
     ]
    }
   ],
   "source": [
    "# Validation-set을 읽어와 images에 이미지 데이터, labels에 정답, names에 이미지 파일 이름을 저장합니다.\n",
    "images = []\n",
    "labels = []\n",
    "names = []\n",
    "\n",
    "\n",
    "for example in tqdm(os.listdir(os.path.join(VAL_IMAGES_DIR, 'images'))):\n",
    "  # print (example)\n",
    "  image_file = os.path.join(VAL_IMAGES_DIR, 'images', example)\n",
    "  image_data = mpimg.imread(image_file)\n",
    "  label = name2label[example]\n",
    "\n",
    "  if (image_data.shape == (IMAGE_SIZE, IMAGE_SIZE, NUM_CHANNELS)):\n",
    "    images.append(image_data)\n",
    "    labels.append(label)\n",
    "    names.append(example)\n",
    "images = np.asarray(images)\n",
    "labels = np.asarray(labels)\n",
    "names = np.asarray(names)"
   ]
  },
  {
   "cell_type": "code",
   "execution_count": 24,
   "metadata": {
    "colab": {},
    "colab_type": "code",
    "id": "sEM1W4o7tvwo"
   },
   "outputs": [],
   "source": [
    "# 저장해놓은 데이터를 헷갈리지 않도록 validation 붙은 변수에 복사합니다.\n",
    "validation_images, validation_labels, validation_files = images, labels, names"
   ]
  },
  {
   "cell_type": "markdown",
   "metadata": {
    "colab_type": "text",
    "id": "oxGS67Tyw5_x"
   },
   "source": [
    "### Test-set 불러오기"
   ]
  },
  {
   "cell_type": "code",
   "execution_count": 25,
   "metadata": {
    "colab": {
     "base_uri": "https://localhost:8080/",
     "height": 34
    },
    "colab_type": "code",
    "id": "OpRKruQ3w869",
    "outputId": "64ec99f7-3d68-4668-e8c4-7cfaf595bc93"
   },
   "outputs": [
    {
     "data": {
      "text/plain": [
       "['images']"
      ]
     },
     "execution_count": 25,
     "metadata": {},
     "output_type": "execute_result"
    }
   ],
   "source": [
    "# TEST_IMAGES_DIR 위치에는 images 폴더만 있습니다.\n",
    "# test-set에 대한 정답은 공개되어 있지 않으며 아래의 사이트에 정답을 제출하여 성적을 확인할 수 있습니다. \n",
    "# https://tiny-imagenet.herokuapp.com/\n",
    "os.listdir(TEST_IMAGES_DIR)"
   ]
  },
  {
   "cell_type": "code",
   "execution_count": 26,
   "metadata": {
    "colab": {
     "base_uri": "https://localhost:8080/",
     "height": 34
    },
    "colab_type": "code",
    "id": "UYVel9-tzJrx",
    "outputId": "c2ba0150-7220-4c67-8340-1474422a346b"
   },
   "outputs": [
    {
     "name": "stderr",
     "output_type": "stream",
     "text": [
      "100%|██████████| 10000/10000 [00:30<00:00, 330.38it/s]\n"
     ]
    }
   ],
   "source": [
    "# Test-set을 읽어와 images에 이미지 데이터, names에 이미지 파일 이름을 저장합니다.\n",
    "images = []\n",
    "names = []\n",
    "\n",
    "\n",
    "for example in tqdm(os.listdir(os.path.join(TEST_IMAGES_DIR, 'images'))):\n",
    "  # print (example)\n",
    "  image_file = os.path.join(TEST_IMAGES_DIR, 'images', example)\n",
    "  image_data = mpimg.imread(image_file)\n",
    "\n",
    "  if (image_data.shape == (IMAGE_SIZE, IMAGE_SIZE, NUM_CHANNELS)):\n",
    "    images.append(image_data)\n",
    "    names.append(example)\n",
    "images = np.asarray(images)\n",
    "names = np.asarray(names)"
   ]
  },
  {
   "cell_type": "code",
   "execution_count": 27,
   "metadata": {
    "colab": {},
    "colab_type": "code",
    "id": "4Luz6oh50alm"
   },
   "outputs": [],
   "source": [
    "# 저장해놓은 데이터를 헷갈리지 않도록 testing 붙은 변수에 복사합니다.\n",
    "testing_images, testing_files = images, names"
   ]
  },
  {
   "cell_type": "markdown",
   "metadata": {
    "colab_type": "text",
    "id": "HvIl0ZeR3X1Y"
   },
   "source": [
    "## 레이블이 무슨 의미일까요?"
   ]
  },
  {
   "cell_type": "code",
   "execution_count": 11,
   "metadata": {
    "colab": {
     "base_uri": "https://localhost:8080/",
     "height": 34
    },
    "colab_type": "code",
    "id": "OFpeHpky3eis",
    "outputId": "92ebe566-8ba9-4072-89e0-e002f0fc0f0f"
   },
   "outputs": [
    {
     "data": {
      "text/plain": [
       "['wnids.txt', 'test', 'words.txt', 'train', 'val']"
      ]
     },
     "execution_count": 11,
     "metadata": {},
     "output_type": "execute_result"
    }
   ],
   "source": [
    "# words.txt에 레이블이 무슨 의미인지 저장되어 있습니다.\n",
    "os.listdir(data_path)"
   ]
  },
  {
   "cell_type": "code",
   "execution_count": 12,
   "metadata": {
    "colab": {
     "base_uri": "https://localhost:8080/",
     "height": 195
    },
    "colab_type": "code",
    "id": "jBPGe5dH3q-B",
    "outputId": "9e97afb7-aa92-4457-f5bf-a400a371f750"
   },
   "outputs": [
    {
     "data": {
      "text/html": [
       "<div>\n",
       "<style scoped>\n",
       "    .dataframe tbody tr th:only-of-type {\n",
       "        vertical-align: middle;\n",
       "    }\n",
       "\n",
       "    .dataframe tbody tr th {\n",
       "        vertical-align: top;\n",
       "    }\n",
       "\n",
       "    .dataframe thead th {\n",
       "        text-align: right;\n",
       "    }\n",
       "</style>\n",
       "<table border=\"1\" class=\"dataframe\">\n",
       "  <thead>\n",
       "    <tr style=\"text-align: right;\">\n",
       "      <th></th>\n",
       "      <th>label</th>\n",
       "      <th>word</th>\n",
       "    </tr>\n",
       "  </thead>\n",
       "  <tbody>\n",
       "    <tr>\n",
       "      <th>0</th>\n",
       "      <td>n00001740</td>\n",
       "      <td>entity</td>\n",
       "    </tr>\n",
       "    <tr>\n",
       "      <th>1</th>\n",
       "      <td>n00001930</td>\n",
       "      <td>physical entity</td>\n",
       "    </tr>\n",
       "    <tr>\n",
       "      <th>2</th>\n",
       "      <td>n00002137</td>\n",
       "      <td>abstraction, abstract entity</td>\n",
       "    </tr>\n",
       "    <tr>\n",
       "      <th>3</th>\n",
       "      <td>n00002452</td>\n",
       "      <td>thing</td>\n",
       "    </tr>\n",
       "    <tr>\n",
       "      <th>4</th>\n",
       "      <td>n00002684</td>\n",
       "      <td>object, physical object</td>\n",
       "    </tr>\n",
       "  </tbody>\n",
       "</table>\n",
       "</div>"
      ],
      "text/plain": [
       "       label                          word\n",
       "0  n00001740                        entity\n",
       "1  n00001930               physical entity\n",
       "2  n00002137  abstraction, abstract entity\n",
       "3  n00002452                         thing\n",
       "4  n00002684       object, physical object"
      ]
     },
     "execution_count": 12,
     "metadata": {},
     "output_type": "execute_result"
    }
   ],
   "source": [
    "# label에 매칭되는 word를 label2word에 저장합니다.\n",
    "label2word = pd.read_csv(os.path.join(data_path, 'words.txt'), sep='\\t', header=None, names=['label', 'word'])\n",
    "label2word.head()"
   ]
  },
  {
   "cell_type": "code",
   "execution_count": 13,
   "metadata": {
    "colab": {},
    "colab_type": "code",
    "id": "KN3Gt1_d4roi"
   },
   "outputs": [],
   "source": [
    "# 이용하기 쉽도록 dataframe에서 label을 key로, word를 value로 가진 dictionary로 바꿉니다.\n",
    "label2word = label2word.set_index('label')['word'].to_dict()"
   ]
  },
  {
   "cell_type": "markdown",
   "metadata": {
    "colab_type": "text",
    "id": "jYrpUsqU2MD4"
   },
   "source": [
    "## 이미지 plot 해보기"
   ]
  },
  {
   "cell_type": "code",
   "execution_count": 14,
   "metadata": {
    "colab": {},
    "colab_type": "code",
    "id": "hNLrhZVp2Oou"
   },
   "outputs": [],
   "source": [
    "def plot_object(data):\n",
    "    plt.figure(figsize=(2,2))\n",
    "    image = data\n",
    "    plt.imshow(image.astype(np.uint8), cmap = matplotlib.cm.binary,\n",
    "               interpolation=\"nearest\")\n",
    "    plt.axis(\"off\")\n",
    "    plt.show()"
   ]
  },
  {
   "cell_type": "code",
   "execution_count": 15,
   "metadata": {
    "colab": {
     "base_uri": "https://localhost:8080/",
     "height": 821
    },
    "colab_type": "code",
    "id": "YHaHYUVM2Qjm",
    "outputId": "aa8f3576-d166-4a5c-8eb9-9b840332e813",
    "scrolled": false
   },
   "outputs": [
    {
     "name": "stdout",
     "output_type": "stream",
     "text": [
      "Label: n02892201 / brass, memorial tablet, plaque\n"
     ]
    },
    {
     "data": {
      "image/png": "[encoded data removed]",
      "text/plain": [
       "<Figure size 144x144 with 1 Axes>"
      ]
     },
     "metadata": {
      "needs_background": "light"
     },
     "output_type": "display_data"
    },
    {
     "name": "stdout",
     "output_type": "stream",
     "text": [
      "Label: n02892201 / brass, memorial tablet, plaque\n"
     ]
    },
    {
     "data": {
      "image/png": "[encoded data removed]",
      "text/plain": [
       "<Figure size 144x144 with 1 Axes>"
      ]
     },
     "metadata": {
      "needs_background": "light"
     },
     "output_type": "display_data"
    },
    {
     "name": "stdout",
     "output_type": "stream",
     "text": [
      "Label: n02892201 / brass, memorial tablet, plaque\n"
     ]
    },
    {
     "data": {
      "image/png": "[encoded data removed]",
      "text/plain": [
       "<Figure size 144x144 with 1 Axes>"
      ]
     },
     "metadata": {
      "needs_background": "light"
     },
     "output_type": "display_data"
    },
    {
     "name": "stdout",
     "output_type": "stream",
     "text": [
      "Label: n02892201 / brass, memorial tablet, plaque\n"
     ]
    },
    {
     "data": {
      "image/png": "[encoded data removed]",
      "text/plain": [
       "<Figure size 144x144 with 1 Axes>"
      ]
     },
     "metadata": {
      "needs_background": "light"
     },
     "output_type": "display_data"
    },
    {
     "name": "stdout",
     "output_type": "stream",
     "text": [
      "Label: n02892201 / brass, memorial tablet, plaque\n"
     ]
    },
    {
     "data": {
      "image/png": "[encoded data removed]",
      "text/plain": [
       "<Figure size 144x144 with 1 Axes>"
      ]
     },
     "metadata": {
      "needs_background": "light"
     },
     "output_type": "display_data"
    }
   ],
   "source": [
    "for label, example in list(zip(training_labels, training_images))[1000:1005]:\n",
    "  print ('Label: {0} / {1}'.format(label, label2word[label]))\n",
    "  plot_object(example)"
   ]
  },
  {
   "cell_type": "markdown",
   "metadata": {
    "colab_type": "text",
    "id": "QPzPM-Wa_Sg-"
   },
   "source": [
    "## ResNet 구조 살펴보기"
   ]
  },
  {
   "cell_type": "code",
   "execution_count": 16,
   "metadata": {
    "colab": {},
    "colab_type": "code",
    "id": "-7VtlMnE_qxh"
   },
   "outputs": [],
   "source": [
    "resnet = ResNet50(weights='imagenet')"
   ]
  },
  {
   "cell_type": "code",
   "execution_count": 17,
   "metadata": {
    "colab": {
     "base_uri": "https://localhost:8080/",
     "height": 286
    },
    "colab_type": "code",
    "id": "8_4P0OFMnnw2",
    "outputId": "81c6a901-07ac-4d5d-9902-5303f58fad7b"
   },
   "outputs": [
    {
     "name": "stdout",
     "output_type": "stream",
     "text": [
      "Predicted: [('n02112018', 'Pomeranian', 0.7826697), ('n02113023', 'Pembroke', 0.03362896), ('n02808440', 'bathtub', 0.025236785)]\n"
     ]
    },
    {
     "data": {
      "image/png": "[encoded data removed]",
      "text/plain": [
       "<Figure size 432x288 with 1 Axes>"
      ]
     },
     "metadata": {
      "needs_background": "light"
     },
     "output_type": "display_data"
    }
   ],
   "source": [
    "url = 'https://d17fnq9dkz9hgj.cloudfront.net/uploads/2018/04/Pomeranian_02.jpg' # 귀여운 강아지 이미지\n",
    "img = Image.open(urlopen(url))\n",
    "img = img.resize((224, 224))\n",
    "imshow(np.asarray(img))\n",
    "\n",
    "x = img_to_array(img)\n",
    "x = np.expand_dims(x, axis=0)\n",
    "x = preprocess_input(x)\n",
    "\n",
    "preds = resnet.predict(x)\n",
    "# decode the results into a list of tuples (class, description, probability)\n",
    "# (one such list for each sample in the batch)\n",
    "\n",
    "print('Predicted:', decode_predictions(preds, top=3)[0])"
   ]
  },
  {
   "cell_type": "code",
   "execution_count": 18,
   "metadata": {
    "colab": {
     "base_uri": "https://localhost:8080/",
     "height": 1000
    },
    "colab_type": "code",
    "id": "MojJB1tV2nFR",
    "outputId": "10535258-78b1-4e99-d0b3-207e5dd56e57"
   },
   "outputs": [
    {
     "name": "stdout",
     "output_type": "stream",
     "text": [
      "Model: \"resnet50\"\n",
      "__________________________________________________________________________________________________\n",
      "Layer (type)                    Output Shape         Param #     Connected to                     \n",
      "==================================================================================================\n",
      "input_1 (InputLayer)            [(None, 224, 224, 3) 0                                            \n",
      "__________________________________________________________________________________________________\n",
      "conv1_pad (ZeroPadding2D)       (None, 230, 230, 3)  0           input_1[0][0]                    \n",
      "__________________________________________________________________________________________________\n",
      "conv1_conv (Conv2D)             (None, 112, 112, 64) 9472        conv1_pad[0][0]                  \n",
      "__________________________________________________________________________________________________\n",
      "conv1_bn (BatchNormalization)   (None, 112, 112, 64) 256         conv1_conv[0][0]                 \n",
      "__________________________________________________________________________________________________\n",
      "conv1_relu (Activation)         (None, 112, 112, 64) 0           conv1_bn[0][0]                   \n",
      "__________________________________________________________________________________________________\n",
      "pool1_pad (ZeroPadding2D)       (None, 114, 114, 64) 0           conv1_relu[0][0]                 \n",
      "__________________________________________________________________________________________________\n",
      "pool1_pool (MaxPooling2D)       (None, 56, 56, 64)   0           pool1_pad[0][0]                  \n",
      "__________________________________________________________________________________________________\n",
      "conv2_block1_1_conv (Conv2D)    (None, 56, 56, 64)   4160        pool1_pool[0][0]                 \n",
      "__________________________________________________________________________________________________\n",
      "conv2_block1_1_bn (BatchNormali (None, 56, 56, 64)   256         conv2_block1_1_conv[0][0]        \n",
      "__________________________________________________________________________________________________\n",
      "conv2_block1_1_relu (Activation (None, 56, 56, 64)   0           conv2_block1_1_bn[0][0]          \n",
      "__________________________________________________________________________________________________\n",
      "conv2_block1_2_conv (Conv2D)    (None, 56, 56, 64)   36928       conv2_block1_1_relu[0][0]        \n",
      "__________________________________________________________________________________________________\n",
      "conv2_block1_2_bn (BatchNormali (None, 56, 56, 64)   256         conv2_block1_2_conv[0][0]        \n",
      "__________________________________________________________________________________________________\n",
      "conv2_block1_2_relu (Activation (None, 56, 56, 64)   0           conv2_block1_2_bn[0][0]          \n",
      "__________________________________________________________________________________________________\n",
      "conv2_block1_0_conv (Conv2D)    (None, 56, 56, 256)  16640       pool1_pool[0][0]                 \n",
      "__________________________________________________________________________________________________\n",
      "conv2_block1_3_conv (Conv2D)    (None, 56, 56, 256)  16640       conv2_block1_2_relu[0][0]        \n",
      "__________________________________________________________________________________________________\n",
      "conv2_block1_0_bn (BatchNormali (None, 56, 56, 256)  1024        conv2_block1_0_conv[0][0]        \n",
      "__________________________________________________________________________________________________\n",
      "conv2_block1_3_bn (BatchNormali (None, 56, 56, 256)  1024        conv2_block1_3_conv[0][0]        \n",
      "__________________________________________________________________________________________________\n",
      "conv2_block1_add (Add)          (None, 56, 56, 256)  0           conv2_block1_0_bn[0][0]          \n",
      "                                                                 conv2_block1_3_bn[0][0]          \n",
      "__________________________________________________________________________________________________\n",
      "conv2_block1_out (Activation)   (None, 56, 56, 256)  0           conv2_block1_add[0][0]           \n",
      "__________________________________________________________________________________________________\n",
      "conv2_block2_1_conv (Conv2D)    (None, 56, 56, 64)   16448       conv2_block1_out[0][0]           \n",
      "__________________________________________________________________________________________________\n",
      "conv2_block2_1_bn (BatchNormali (None, 56, 56, 64)   256         conv2_block2_1_conv[0][0]        \n",
      "__________________________________________________________________________________________________\n",
      "conv2_block2_1_relu (Activation (None, 56, 56, 64)   0           conv2_block2_1_bn[0][0]          \n",
      "__________________________________________________________________________________________________\n",
      "conv2_block2_2_conv (Conv2D)    (None, 56, 56, 64)   36928       conv2_block2_1_relu[0][0]        \n",
      "__________________________________________________________________________________________________\n",
      "conv2_block2_2_bn (BatchNormali (None, 56, 56, 64)   256         conv2_block2_2_conv[0][0]        \n",
      "__________________________________________________________________________________________________\n",
      "conv2_block2_2_relu (Activation (None, 56, 56, 64)   0           conv2_block2_2_bn[0][0]          \n",
      "__________________________________________________________________________________________________\n",
      "conv2_block2_3_conv (Conv2D)    (None, 56, 56, 256)  16640       conv2_block2_2_relu[0][0]        \n",
      "__________________________________________________________________________________________________\n",
      "conv2_block2_3_bn (BatchNormali (None, 56, 56, 256)  1024        conv2_block2_3_conv[0][0]        \n",
      "__________________________________________________________________________________________________\n",
      "conv2_block2_add (Add)          (None, 56, 56, 256)  0           conv2_block1_out[0][0]           \n",
      "                                                                 conv2_block2_3_bn[0][0]          \n",
      "__________________________________________________________________________________________________\n",
      "conv2_block2_out (Activation)   (None, 56, 56, 256)  0           conv2_block2_add[0][0]           \n",
      "__________________________________________________________________________________________________\n",
      "conv2_block3_1_conv (Conv2D)    (None, 56, 56, 64)   16448       conv2_block2_out[0][0]           \n",
      "__________________________________________________________________________________________________\n",
      "conv2_block3_1_bn (BatchNormali (None, 56, 56, 64)   256         conv2_block3_1_conv[0][0]        \n",
      "__________________________________________________________________________________________________\n",
      "conv2_block3_1_relu (Activation (None, 56, 56, 64)   0           conv2_block3_1_bn[0][0]          \n",
      "__________________________________________________________________________________________________\n",
      "conv2_block3_2_conv (Conv2D)    (None, 56, 56, 64)   36928       conv2_block3_1_relu[0][0]        \n",
      "__________________________________________________________________________________________________\n",
      "conv2_block3_2_bn (BatchNormali (None, 56, 56, 64)   256         conv2_block3_2_conv[0][0]        \n",
      "__________________________________________________________________________________________________\n",
      "conv2_block3_2_relu (Activation (None, 56, 56, 64)   0           conv2_block3_2_bn[0][0]          \n",
      "__________________________________________________________________________________________________\n",
      "conv2_block3_3_conv (Conv2D)    (None, 56, 56, 256)  16640       conv2_block3_2_relu[0][0]        \n",
      "__________________________________________________________________________________________________\n",
      "conv2_block3_3_bn (BatchNormali (None, 56, 56, 256)  1024        conv2_block3_3_conv[0][0]        \n",
      "__________________________________________________________________________________________________\n",
      "conv2_block3_add (Add)          (None, 56, 56, 256)  0           conv2_block2_out[0][0]           \n",
      "                                                                 conv2_block3_3_bn[0][0]          \n",
      "__________________________________________________________________________________________________\n",
      "conv2_block3_out (Activation)   (None, 56, 56, 256)  0           conv2_block3_add[0][0]           \n",
      "__________________________________________________________________________________________________\n",
      "conv3_block1_1_conv (Conv2D)    (None, 28, 28, 128)  32896       conv2_block3_out[0][0]           \n",
      "__________________________________________________________________________________________________\n",
      "conv3_block1_1_bn (BatchNormali (None, 28, 28, 128)  512         conv3_block1_1_conv[0][0]        \n",
      "__________________________________________________________________________________________________\n",
      "conv3_block1_1_relu (Activation (None, 28, 28, 128)  0           conv3_block1_1_bn[0][0]          \n"
     ]
    },
    {
     "name": "stdout",
     "output_type": "stream",
     "text": [
      "__________________________________________________________________________________________________\n",
      "conv3_block1_2_conv (Conv2D)    (None, 28, 28, 128)  147584      conv3_block1_1_relu[0][0]        \n",
      "__________________________________________________________________________________________________\n",
      "conv3_block1_2_bn (BatchNormali (None, 28, 28, 128)  512         conv3_block1_2_conv[0][0]        \n",
      "__________________________________________________________________________________________________\n",
      "conv3_block1_2_relu (Activation (None, 28, 28, 128)  0           conv3_block1_2_bn[0][0]          \n",
      "__________________________________________________________________________________________________\n",
      "conv3_block1_0_conv (Conv2D)    (None, 28, 28, 512)  131584      conv2_block3_out[0][0]           \n",
      "__________________________________________________________________________________________________\n",
      "conv3_block1_3_conv (Conv2D)    (None, 28, 28, 512)  66048       conv3_block1_2_relu[0][0]        \n",
      "__________________________________________________________________________________________________\n",
      "conv3_block1_0_bn (BatchNormali (None, 28, 28, 512)  2048        conv3_block1_0_conv[0][0]        \n",
      "__________________________________________________________________________________________________\n",
      "conv3_block1_3_bn (BatchNormali (None, 28, 28, 512)  2048        conv3_block1_3_conv[0][0]        \n",
      "__________________________________________________________________________________________________\n",
      "conv3_block1_add (Add)          (None, 28, 28, 512)  0           conv3_block1_0_bn[0][0]          \n",
      "                                                                 conv3_block1_3_bn[0][0]          \n",
      "__________________________________________________________________________________________________\n",
      "conv3_block1_out (Activation)   (None, 28, 28, 512)  0           conv3_block1_add[0][0]           \n",
      "__________________________________________________________________________________________________\n",
      "conv3_block2_1_conv (Conv2D)    (None, 28, 28, 128)  65664       conv3_block1_out[0][0]           \n",
      "__________________________________________________________________________________________________\n",
      "conv3_block2_1_bn (BatchNormali (None, 28, 28, 128)  512         conv3_block2_1_conv[0][0]        \n",
      "__________________________________________________________________________________________________\n",
      "conv3_block2_1_relu (Activation (None, 28, 28, 128)  0           conv3_block2_1_bn[0][0]          \n",
      "__________________________________________________________________________________________________\n",
      "conv3_block2_2_conv (Conv2D)    (None, 28, 28, 128)  147584      conv3_block2_1_relu[0][0]        \n",
      "__________________________________________________________________________________________________\n",
      "conv3_block2_2_bn (BatchNormali (None, 28, 28, 128)  512         conv3_block2_2_conv[0][0]        \n",
      "__________________________________________________________________________________________________\n",
      "conv3_block2_2_relu (Activation (None, 28, 28, 128)  0           conv3_block2_2_bn[0][0]          \n",
      "__________________________________________________________________________________________________\n",
      "conv3_block2_3_conv (Conv2D)    (None, 28, 28, 512)  66048       conv3_block2_2_relu[0][0]        \n",
      "__________________________________________________________________________________________________\n",
      "conv3_block2_3_bn (BatchNormali (None, 28, 28, 512)  2048        conv3_block2_3_conv[0][0]        \n",
      "__________________________________________________________________________________________________\n",
      "conv3_block2_add (Add)          (None, 28, 28, 512)  0           conv3_block1_out[0][0]           \n",
      "                                                                 conv3_block2_3_bn[0][0]          \n",
      "__________________________________________________________________________________________________\n",
      "conv3_block2_out (Activation)   (None, 28, 28, 512)  0           conv3_block2_add[0][0]           \n",
      "__________________________________________________________________________________________________\n",
      "conv3_block3_1_conv (Conv2D)    (None, 28, 28, 128)  65664       conv3_block2_out[0][0]           \n",
      "__________________________________________________________________________________________________\n",
      "conv3_block3_1_bn (BatchNormali (None, 28, 28, 128)  512         conv3_block3_1_conv[0][0]        \n",
      "__________________________________________________________________________________________________\n",
      "conv3_block3_1_relu (Activation (None, 28, 28, 128)  0           conv3_block3_1_bn[0][0]          \n",
      "__________________________________________________________________________________________________\n",
      "conv3_block3_2_conv (Conv2D)    (None, 28, 28, 128)  147584      conv3_block3_1_relu[0][0]        \n",
      "__________________________________________________________________________________________________\n",
      "conv3_block3_2_bn (BatchNormali (None, 28, 28, 128)  512         conv3_block3_2_conv[0][0]        \n",
      "__________________________________________________________________________________________________\n",
      "conv3_block3_2_relu (Activation (None, 28, 28, 128)  0           conv3_block3_2_bn[0][0]          \n",
      "__________________________________________________________________________________________________\n",
      "conv3_block3_3_conv (Conv2D)    (None, 28, 28, 512)  66048       conv3_block3_2_relu[0][0]        \n",
      "__________________________________________________________________________________________________\n",
      "conv3_block3_3_bn (BatchNormali (None, 28, 28, 512)  2048        conv3_block3_3_conv[0][0]        \n",
      "__________________________________________________________________________________________________\n",
      "conv3_block3_add (Add)          (None, 28, 28, 512)  0           conv3_block2_out[0][0]           \n",
      "                                                                 conv3_block3_3_bn[0][0]          \n",
      "__________________________________________________________________________________________________\n",
      "conv3_block3_out (Activation)   (None, 28, 28, 512)  0           conv3_block3_add[0][0]           \n",
      "__________________________________________________________________________________________________\n",
      "conv3_block4_1_conv (Conv2D)    (None, 28, 28, 128)  65664       conv3_block3_out[0][0]           \n",
      "__________________________________________________________________________________________________\n",
      "conv3_block4_1_bn (BatchNormali (None, 28, 28, 128)  512         conv3_block4_1_conv[0][0]        \n",
      "__________________________________________________________________________________________________\n",
      "conv3_block4_1_relu (Activation (None, 28, 28, 128)  0           conv3_block4_1_bn[0][0]          \n",
      "__________________________________________________________________________________________________\n",
      "conv3_block4_2_conv (Conv2D)    (None, 28, 28, 128)  147584      conv3_block4_1_relu[0][0]        \n",
      "__________________________________________________________________________________________________\n",
      "conv3_block4_2_bn (BatchNormali (None, 28, 28, 128)  512         conv3_block4_2_conv[0][0]        \n",
      "__________________________________________________________________________________________________\n",
      "conv3_block4_2_relu (Activation (None, 28, 28, 128)  0           conv3_block4_2_bn[0][0]          \n",
      "__________________________________________________________________________________________________\n",
      "conv3_block4_3_conv (Conv2D)    (None, 28, 28, 512)  66048       conv3_block4_2_relu[0][0]        \n",
      "__________________________________________________________________________________________________\n",
      "conv3_block4_3_bn (BatchNormali (None, 28, 28, 512)  2048        conv3_block4_3_conv[0][0]        \n",
      "__________________________________________________________________________________________________\n",
      "conv3_block4_add (Add)          (None, 28, 28, 512)  0           conv3_block3_out[0][0]           \n",
      "                                                                 conv3_block4_3_bn[0][0]          \n",
      "__________________________________________________________________________________________________\n",
      "conv3_block4_out (Activation)   (None, 28, 28, 512)  0           conv3_block4_add[0][0]           \n",
      "__________________________________________________________________________________________________\n",
      "conv4_block1_1_conv (Conv2D)    (None, 14, 14, 256)  131328      conv3_block4_out[0][0]           \n",
      "__________________________________________________________________________________________________\n",
      "conv4_block1_1_bn (BatchNormali (None, 14, 14, 256)  1024        conv4_block1_1_conv[0][0]        \n",
      "__________________________________________________________________________________________________\n",
      "conv4_block1_1_relu (Activation (None, 14, 14, 256)  0           conv4_block1_1_bn[0][0]          \n",
      "__________________________________________________________________________________________________\n",
      "conv4_block1_2_conv (Conv2D)    (None, 14, 14, 256)  590080      conv4_block1_1_relu[0][0]        \n",
      "__________________________________________________________________________________________________\n",
      "conv4_block1_2_bn (BatchNormali (None, 14, 14, 256)  1024        conv4_block1_2_conv[0][0]        \n",
      "__________________________________________________________________________________________________\n",
      "conv4_block1_2_relu (Activation (None, 14, 14, 256)  0           conv4_block1_2_bn[0][0]          \n",
      "__________________________________________________________________________________________________\n",
      "conv4_block1_0_conv (Conv2D)    (None, 14, 14, 1024) 525312      conv3_block4_out[0][0]           \n",
      "__________________________________________________________________________________________________\n",
      "conv4_block1_3_conv (Conv2D)    (None, 14, 14, 1024) 263168      conv4_block1_2_relu[0][0]        \n",
      "__________________________________________________________________________________________________\n",
      "conv4_block1_0_bn (BatchNormali (None, 14, 14, 1024) 4096        conv4_block1_0_conv[0][0]        \n",
      "__________________________________________________________________________________________________\n",
      "conv4_block1_3_bn (BatchNormali (None, 14, 14, 1024) 4096        conv4_block1_3_conv[0][0]        \n",
      "__________________________________________________________________________________________________\n",
      "conv4_block1_add (Add)          (None, 14, 14, 1024) 0           conv4_block1_0_bn[0][0]          \n",
      "                                                                 conv4_block1_3_bn[0][0]          \n",
      "__________________________________________________________________________________________________\n",
      "conv4_block1_out (Activation)   (None, 14, 14, 1024) 0           conv4_block1_add[0][0]           \n",
      "__________________________________________________________________________________________________\n",
      "conv4_block2_1_conv (Conv2D)    (None, 14, 14, 256)  262400      conv4_block1_out[0][0]           \n",
      "__________________________________________________________________________________________________\n",
      "conv4_block2_1_bn (BatchNormali (None, 14, 14, 256)  1024        conv4_block2_1_conv[0][0]        \n",
      "__________________________________________________________________________________________________\n",
      "conv4_block2_1_relu (Activation (None, 14, 14, 256)  0           conv4_block2_1_bn[0][0]          \n",
      "__________________________________________________________________________________________________\n",
      "conv4_block2_2_conv (Conv2D)    (None, 14, 14, 256)  590080      conv4_block2_1_relu[0][0]        \n",
      "__________________________________________________________________________________________________\n",
      "conv4_block2_2_bn (BatchNormali (None, 14, 14, 256)  1024        conv4_block2_2_conv[0][0]        \n",
      "__________________________________________________________________________________________________\n",
      "conv4_block2_2_relu (Activation (None, 14, 14, 256)  0           conv4_block2_2_bn[0][0]          \n",
      "__________________________________________________________________________________________________\n",
      "conv4_block2_3_conv (Conv2D)    (None, 14, 14, 1024) 263168      conv4_block2_2_relu[0][0]        \n",
      "__________________________________________________________________________________________________\n",
      "conv4_block2_3_bn (BatchNormali (None, 14, 14, 1024) 4096        conv4_block2_3_conv[0][0]        \n",
      "__________________________________________________________________________________________________\n",
      "conv4_block2_add (Add)          (None, 14, 14, 1024) 0           conv4_block1_out[0][0]           \n",
      "                                                                 conv4_block2_3_bn[0][0]          \n",
      "__________________________________________________________________________________________________\n",
      "conv4_block2_out (Activation)   (None, 14, 14, 1024) 0           conv4_block2_add[0][0]           \n",
      "__________________________________________________________________________________________________\n",
      "conv4_block3_1_conv (Conv2D)    (None, 14, 14, 256)  262400      conv4_block2_out[0][0]           \n",
      "__________________________________________________________________________________________________\n",
      "conv4_block3_1_bn (BatchNormali (None, 14, 14, 256)  1024        conv4_block3_1_conv[0][0]        \n",
      "__________________________________________________________________________________________________\n",
      "conv4_block3_1_relu (Activation (None, 14, 14, 256)  0           conv4_block3_1_bn[0][0]          \n",
      "__________________________________________________________________________________________________\n",
      "conv4_block3_2_conv (Conv2D)    (None, 14, 14, 256)  590080      conv4_block3_1_relu[0][0]        \n",
      "__________________________________________________________________________________________________\n",
      "conv4_block3_2_bn (BatchNormali (None, 14, 14, 256)  1024        conv4_block3_2_conv[0][0]        \n",
      "__________________________________________________________________________________________________\n",
      "conv4_block3_2_relu (Activation (None, 14, 14, 256)  0           conv4_block3_2_bn[0][0]          \n",
      "__________________________________________________________________________________________________\n",
      "conv4_block3_3_conv (Conv2D)    (None, 14, 14, 1024) 263168      conv4_block3_2_relu[0][0]        \n",
      "__________________________________________________________________________________________________\n",
      "conv4_block3_3_bn (BatchNormali (None, 14, 14, 1024) 4096        conv4_block3_3_conv[0][0]        \n",
      "__________________________________________________________________________________________________\n",
      "conv4_block3_add (Add)          (None, 14, 14, 1024) 0           conv4_block2_out[0][0]           \n",
      "                                                                 conv4_block3_3_bn[0][0]          \n",
      "__________________________________________________________________________________________________\n",
      "conv4_block3_out (Activation)   (None, 14, 14, 1024) 0           conv4_block3_add[0][0]           \n",
      "__________________________________________________________________________________________________\n",
      "conv4_block4_1_conv (Conv2D)    (None, 14, 14, 256)  262400      conv4_block3_out[0][0]           \n",
      "__________________________________________________________________________________________________\n",
      "conv4_block4_1_bn (BatchNormali (None, 14, 14, 256)  1024        conv4_block4_1_conv[0][0]        \n",
      "__________________________________________________________________________________________________\n",
      "conv4_block4_1_relu (Activation (None, 14, 14, 256)  0           conv4_block4_1_bn[0][0]          \n",
      "__________________________________________________________________________________________________\n",
      "conv4_block4_2_conv (Conv2D)    (None, 14, 14, 256)  590080      conv4_block4_1_relu[0][0]        \n",
      "__________________________________________________________________________________________________\n",
      "conv4_block4_2_bn (BatchNormali (None, 14, 14, 256)  1024        conv4_block4_2_conv[0][0]        \n",
      "__________________________________________________________________________________________________\n",
      "conv4_block4_2_relu (Activation (None, 14, 14, 256)  0           conv4_block4_2_bn[0][0]          \n",
      "__________________________________________________________________________________________________\n",
      "conv4_block4_3_conv (Conv2D)    (None, 14, 14, 1024) 263168      conv4_block4_2_relu[0][0]        \n",
      "__________________________________________________________________________________________________\n",
      "conv4_block4_3_bn (BatchNormali (None, 14, 14, 1024) 4096        conv4_block4_3_conv[0][0]        \n",
      "__________________________________________________________________________________________________\n",
      "conv4_block4_add (Add)          (None, 14, 14, 1024) 0           conv4_block3_out[0][0]           \n",
      "                                                                 conv4_block4_3_bn[0][0]          \n",
      "__________________________________________________________________________________________________\n",
      "conv4_block4_out (Activation)   (None, 14, 14, 1024) 0           conv4_block4_add[0][0]           \n",
      "__________________________________________________________________________________________________\n",
      "conv4_block5_1_conv (Conv2D)    (None, 14, 14, 256)  262400      conv4_block4_out[0][0]           \n",
      "__________________________________________________________________________________________________\n",
      "conv4_block5_1_bn (BatchNormali (None, 14, 14, 256)  1024        conv4_block5_1_conv[0][0]        \n",
      "__________________________________________________________________________________________________\n",
      "conv4_block5_1_relu (Activation (None, 14, 14, 256)  0           conv4_block5_1_bn[0][0]          \n",
      "__________________________________________________________________________________________________\n",
      "conv4_block5_2_conv (Conv2D)    (None, 14, 14, 256)  590080      conv4_block5_1_relu[0][0]        \n",
      "__________________________________________________________________________________________________\n",
      "conv4_block5_2_bn (BatchNormali (None, 14, 14, 256)  1024        conv4_block5_2_conv[0][0]        \n",
      "__________________________________________________________________________________________________\n",
      "conv4_block5_2_relu (Activation (None, 14, 14, 256)  0           conv4_block5_2_bn[0][0]          \n",
      "__________________________________________________________________________________________________\n",
      "conv4_block5_3_conv (Conv2D)    (None, 14, 14, 1024) 263168      conv4_block5_2_relu[0][0]        \n",
      "__________________________________________________________________________________________________\n",
      "conv4_block5_3_bn (BatchNormali (None, 14, 14, 1024) 4096        conv4_block5_3_conv[0][0]        \n",
      "__________________________________________________________________________________________________\n",
      "conv4_block5_add (Add)          (None, 14, 14, 1024) 0           conv4_block4_out[0][0]           \n",
      "                                                                 conv4_block5_3_bn[0][0]          \n",
      "__________________________________________________________________________________________________\n",
      "conv4_block5_out (Activation)   (None, 14, 14, 1024) 0           conv4_block5_add[0][0]           \n",
      "__________________________________________________________________________________________________\n",
      "conv4_block6_1_conv (Conv2D)    (None, 14, 14, 256)  262400      conv4_block5_out[0][0]           \n",
      "__________________________________________________________________________________________________\n",
      "conv4_block6_1_bn (BatchNormali (None, 14, 14, 256)  1024        conv4_block6_1_conv[0][0]        \n",
      "__________________________________________________________________________________________________\n",
      "conv4_block6_1_relu (Activation (None, 14, 14, 256)  0           conv4_block6_1_bn[0][0]          \n",
      "__________________________________________________________________________________________________\n",
      "conv4_block6_2_conv (Conv2D)    (None, 14, 14, 256)  590080      conv4_block6_1_relu[0][0]        \n",
      "__________________________________________________________________________________________________\n",
      "conv4_block6_2_bn (BatchNormali (None, 14, 14, 256)  1024        conv4_block6_2_conv[0][0]        \n",
      "__________________________________________________________________________________________________\n",
      "conv4_block6_2_relu (Activation (None, 14, 14, 256)  0           conv4_block6_2_bn[0][0]          \n",
      "__________________________________________________________________________________________________\n",
      "conv4_block6_3_conv (Conv2D)    (None, 14, 14, 1024) 263168      conv4_block6_2_relu[0][0]        \n",
      "__________________________________________________________________________________________________\n",
      "conv4_block6_3_bn (BatchNormali (None, 14, 14, 1024) 4096        conv4_block6_3_conv[0][0]        \n",
      "__________________________________________________________________________________________________\n",
      "conv4_block6_add (Add)          (None, 14, 14, 1024) 0           conv4_block5_out[0][0]           \n",
      "                                                                 conv4_block6_3_bn[0][0]          \n",
      "__________________________________________________________________________________________________\n",
      "conv4_block6_out (Activation)   (None, 14, 14, 1024) 0           conv4_block6_add[0][0]           \n",
      "__________________________________________________________________________________________________\n",
      "conv5_block1_1_conv (Conv2D)    (None, 7, 7, 512)    524800      conv4_block6_out[0][0]           \n",
      "__________________________________________________________________________________________________\n",
      "conv5_block1_1_bn (BatchNormali (None, 7, 7, 512)    2048        conv5_block1_1_conv[0][0]        \n",
      "__________________________________________________________________________________________________\n",
      "conv5_block1_1_relu (Activation (None, 7, 7, 512)    0           conv5_block1_1_bn[0][0]          \n",
      "__________________________________________________________________________________________________\n",
      "conv5_block1_2_conv (Conv2D)    (None, 7, 7, 512)    2359808     conv5_block1_1_relu[0][0]        \n",
      "__________________________________________________________________________________________________\n",
      "conv5_block1_2_bn (BatchNormali (None, 7, 7, 512)    2048        conv5_block1_2_conv[0][0]        \n",
      "__________________________________________________________________________________________________\n",
      "conv5_block1_2_relu (Activation (None, 7, 7, 512)    0           conv5_block1_2_bn[0][0]          \n",
      "__________________________________________________________________________________________________\n",
      "conv5_block1_0_conv (Conv2D)    (None, 7, 7, 2048)   2099200     conv4_block6_out[0][0]           \n",
      "__________________________________________________________________________________________________\n",
      "conv5_block1_3_conv (Conv2D)    (None, 7, 7, 2048)   1050624     conv5_block1_2_relu[0][0]        \n",
      "__________________________________________________________________________________________________\n",
      "conv5_block1_0_bn (BatchNormali (None, 7, 7, 2048)   8192        conv5_block1_0_conv[0][0]        \n",
      "__________________________________________________________________________________________________\n",
      "conv5_block1_3_bn (BatchNormali (None, 7, 7, 2048)   8192        conv5_block1_3_conv[0][0]        \n",
      "__________________________________________________________________________________________________\n",
      "conv5_block1_add (Add)          (None, 7, 7, 2048)   0           conv5_block1_0_bn[0][0]          \n",
      "                                                                 conv5_block1_3_bn[0][0]          \n",
      "__________________________________________________________________________________________________\n",
      "conv5_block1_out (Activation)   (None, 7, 7, 2048)   0           conv5_block1_add[0][0]           \n",
      "__________________________________________________________________________________________________\n",
      "conv5_block2_1_conv (Conv2D)    (None, 7, 7, 512)    1049088     conv5_block1_out[0][0]           \n",
      "__________________________________________________________________________________________________\n",
      "conv5_block2_1_bn (BatchNormali (None, 7, 7, 512)    2048        conv5_block2_1_conv[0][0]        \n",
      "__________________________________________________________________________________________________\n",
      "conv5_block2_1_relu (Activation (None, 7, 7, 512)    0           conv5_block2_1_bn[0][0]          \n",
      "__________________________________________________________________________________________________\n",
      "conv5_block2_2_conv (Conv2D)    (None, 7, 7, 512)    2359808     conv5_block2_1_relu[0][0]        \n",
      "__________________________________________________________________________________________________\n",
      "conv5_block2_2_bn (BatchNormali (None, 7, 7, 512)    2048        conv5_block2_2_conv[0][0]        \n",
      "__________________________________________________________________________________________________\n",
      "conv5_block2_2_relu (Activation (None, 7, 7, 512)    0           conv5_block2_2_bn[0][0]          \n",
      "__________________________________________________________________________________________________\n",
      "conv5_block2_3_conv (Conv2D)    (None, 7, 7, 2048)   1050624     conv5_block2_2_relu[0][0]        \n",
      "__________________________________________________________________________________________________\n",
      "conv5_block2_3_bn (BatchNormali (None, 7, 7, 2048)   8192        conv5_block2_3_conv[0][0]        \n",
      "__________________________________________________________________________________________________\n",
      "conv5_block2_add (Add)          (None, 7, 7, 2048)   0           conv5_block1_out[0][0]           \n",
      "                                                                 conv5_block2_3_bn[0][0]          \n",
      "__________________________________________________________________________________________________\n",
      "conv5_block2_out (Activation)   (None, 7, 7, 2048)   0           conv5_block2_add[0][0]           \n",
      "__________________________________________________________________________________________________\n",
      "conv5_block3_1_conv (Conv2D)    (None, 7, 7, 512)    1049088     conv5_block2_out[0][0]           \n",
      "__________________________________________________________________________________________________\n",
      "conv5_block3_1_bn (BatchNormali (None, 7, 7, 512)    2048        conv5_block3_1_conv[0][0]        \n",
      "__________________________________________________________________________________________________\n",
      "conv5_block3_1_relu (Activation (None, 7, 7, 512)    0           conv5_block3_1_bn[0][0]          \n",
      "__________________________________________________________________________________________________\n",
      "conv5_block3_2_conv (Conv2D)    (None, 7, 7, 512)    2359808     conv5_block3_1_relu[0][0]        \n",
      "__________________________________________________________________________________________________\n",
      "conv5_block3_2_bn (BatchNormali (None, 7, 7, 512)    2048        conv5_block3_2_conv[0][0]        \n",
      "__________________________________________________________________________________________________\n",
      "conv5_block3_2_relu (Activation (None, 7, 7, 512)    0           conv5_block3_2_bn[0][0]          \n",
      "__________________________________________________________________________________________________\n",
      "conv5_block3_3_conv (Conv2D)    (None, 7, 7, 2048)   1050624     conv5_block3_2_relu[0][0]        \n",
      "__________________________________________________________________________________________________\n",
      "conv5_block3_3_bn (BatchNormali (None, 7, 7, 2048)   8192        conv5_block3_3_conv[0][0]        \n",
      "__________________________________________________________________________________________________\n",
      "conv5_block3_add (Add)          (None, 7, 7, 2048)   0           conv5_block2_out[0][0]           \n",
      "                                                                 conv5_block3_3_bn[0][0]          \n",
      "__________________________________________________________________________________________________\n",
      "conv5_block3_out (Activation)   (None, 7, 7, 2048)   0           conv5_block3_add[0][0]           \n",
      "__________________________________________________________________________________________________\n",
      "avg_pool (GlobalAveragePooling2 (None, 2048)         0           conv5_block3_out[0][0]           \n",
      "__________________________________________________________________________________________________\n",
      "predictions (Dense)             (None, 1000)         2049000     avg_pool[0][0]                   \n",
      "==================================================================================================\n",
      "Total params: 25,636,712\n",
      "Trainable params: 25,583,592\n",
      "Non-trainable params: 53,120\n",
      "__________________________________________________________________________________________________\n"
     ]
    }
   ],
   "source": [
    "config = tf.compat.v1.ConfigProto()\n",
    "config.gpu_options.allow_growth = True\n",
    "with tf.compat.v1.Session(config=config) as sess:\n",
    "    resnet.summary()"
   ]
  },
  {
   "cell_type": "markdown",
   "metadata": {
    "colab_type": "text",
    "id": "sCNSDDLt_3qi"
   },
   "source": [
    "## Tiny ImageNet에 맞게 Transfer learning 하기"
   ]
  },
  {
   "cell_type": "code",
   "execution_count": 19,
   "metadata": {
    "colab": {},
    "colab_type": "code",
    "id": "5w-hxphV_9gI"
   },
   "outputs": [],
   "source": [
    "# 몇 epoch을 학습할지 EPOCH에 저장합니다.\n",
    "EPOCHS = 10"
   ]
  },
  {
   "cell_type": "code",
   "execution_count": 20,
   "metadata": {
    "colab": {
     "base_uri": "https://localhost:8080/",
     "height": 87
    },
    "colab_type": "code",
    "id": "hEPh6NALAX1U",
    "outputId": "ca4b2d83-deb8-4928-88b3-4cedd84c9d8a"
   },
   "outputs": [],
   "source": [
    "# fully connected layer를 제외한 resnet50 imagenet pretrained model을 생성하여 resnet_conv에 저장합니다.\n",
    "# pretrained된 모델은 imagenet의 200 GB가 넘는 train-set에 대해 학습되어져 있습니다.\n",
    "resnet_conv = ResNet50(\n",
    "    weights='imagenet',\n",
    "    include_top=False,\n",
    "    input_shape=(IMAGE_SIZE, IMAGE_SIZE, 3))"
   ]
  },
  {
   "cell_type": "code",
   "execution_count": 21,
   "metadata": {
    "colab": {},
    "colab_type": "code",
    "id": "TZ6mEkVoAcVZ"
   },
   "outputs": [],
   "source": [
    "# resnet_conv의 모든 layer를 학습되지 않도록 설정합니다.\n",
    "for layer in resnet_conv.layers:\n",
    "  layer.trainable = False"
   ]
  },
  {
   "cell_type": "code",
   "execution_count": 22,
   "metadata": {
    "colab": {},
    "colab_type": "code",
    "id": "EdntJwxiAgFe"
   },
   "outputs": [],
   "source": [
    "# model을 새로 생성합니다.\n",
    "model = Sequential()\n",
    "# model에 resnet_conv를 추가합니다.\n",
    "model.add(resnet_conv)\n",
    "# resnet_conv의 마지막 convolution을 한 줄로 펼칩니다.\n",
    "model.add(Flatten())\n",
    "# 1024개의 node를 output으로 가지는 fully connected layer를 만듭니다.\n",
    "# activation function은 relu로 설정합니다.\n",
    "model.add(Dense(1024, activation='relu'))\n",
    "# NUM_CLASSES만큼의 노드를 만들고 softmax를 연결하여 확률이 출력되도록 합니다.\n",
    "model.add(Dense(NUM_CLASSES, activation='softmax'))"
   ]
  },
  {
   "cell_type": "code",
   "execution_count": 23,
   "metadata": {
    "colab": {},
    "colab_type": "code",
    "id": "YFO6W4SEAjPM"
   },
   "outputs": [],
   "source": [
    "# cost function은 multi class classification에 일반적으로 사용하는 categorical crossentropy를 설정합니다.\n",
    "# optimizer는 Momemtum을 사용하고 learning rate은 0.001, momumtum 값은 0.9로 설정합니다.\n",
    "model.compile(\n",
    "  loss='categorical_crossentropy',\n",
    "#  optimizer=optimizers.SGD(lr=0.001, momentum=0.9),\n",
    "   optimizer=optimizers.Adam(lr=0.001),\n",
    "   metrics=['accuracy'])"
   ]
  },
  {
   "cell_type": "code",
   "execution_count": 24,
   "metadata": {
    "colab": {},
    "colab_type": "code",
    "id": "0X-RUFbJA2rO"
   },
   "outputs": [],
   "source": [
    "# train-set image는 resnet50용 preproces_input을 사용하여 preprocess를 합니다.\n",
    "# 각종 data augmentation 기법을 사용하여 무작위로 확대 축소 회전 반전 등을 해줍니다.\n",
    "train_datagen = ImageDataGenerator(\n",
    "            preprocessing_function=preprocess_input,\n",
    "            horizontal_flip=True,\n",
    "            fill_mode='nearest',\n",
    "            zoom_range=0.3,\n",
    "            width_shift_range=0.3,\n",
    "            height_shift_range=0.3,\n",
    "            rotation_range=30)"
   ]
  },
  {
   "cell_type": "code",
   "execution_count": 25,
   "metadata": {
    "colab": {
     "base_uri": "https://localhost:8080/",
     "height": 34
    },
    "colab_type": "code",
    "id": "wurhhTUqBR02",
    "outputId": "38c89087-274d-4021-9595-ed301bce8328"
   },
   "outputs": [
    {
     "name": "stdout",
     "output_type": "stream",
     "text": [
      "Found 100000 images belonging to 200 classes.\n"
     ]
    }
   ],
   "source": [
    "# TRAINING_IMAGES_DIR에 저장되어 있는 image data들을 train-set data로 사용합니다.\n",
    "# image data들은 IMAGE_SIZE * IMAGE_SIZE로 변환하여 사용합니다.\n",
    "# mini batch size는 BATCH_SIZE로 설정합니다.\n",
    "train_generator = train_datagen.flow_from_directory(\n",
    "          TRAINING_IMAGES_DIR,\n",
    "          target_size=(IMAGE_SIZE, IMAGE_SIZE),\n",
    "          class_mode=\"categorical\",\n",
    "          batch_size=BATCH_SIZE)\n",
    "label2id = (train_generator.class_indices)"
   ]
  },
  {
   "cell_type": "code",
   "execution_count": 26,
   "metadata": {
    "colab": {},
    "colab_type": "code",
    "id": "danRTHCZBiEk"
   },
   "outputs": [],
   "source": [
    "# validation-set image는 resnet50용 preproces_input을 사용하여 preprocess를 합니다.\n",
    "val_datagen = ImageDataGenerator(preprocessing_function=preprocess_input)"
   ]
  },
  {
   "cell_type": "code",
   "execution_count": 32,
   "metadata": {
    "colab": {
     "base_uri": "https://localhost:8080/",
     "height": 195
    },
    "colab_type": "code",
    "id": "OPz5F30CN1hR",
    "outputId": "cd237ea7-3940-4f80-ba99-41eafb37fc8b"
   },
   "outputs": [
    {
     "data": {
      "text/html": [
       "<div>\n",
       "<style scoped>\n",
       "    .dataframe tbody tr th:only-of-type {\n",
       "        vertical-align: middle;\n",
       "    }\n",
       "\n",
       "    .dataframe tbody tr th {\n",
       "        vertical-align: top;\n",
       "    }\n",
       "\n",
       "    .dataframe thead th {\n",
       "        text-align: right;\n",
       "    }\n",
       "</style>\n",
       "<table border=\"1\" class=\"dataframe\">\n",
       "  <thead>\n",
       "    <tr style=\"text-align: right;\">\n",
       "      <th></th>\n",
       "      <th>File</th>\n",
       "      <th>Class</th>\n",
       "      <th>X</th>\n",
       "      <th>Y</th>\n",
       "      <th>H</th>\n",
       "      <th>W</th>\n",
       "    </tr>\n",
       "  </thead>\n",
       "  <tbody>\n",
       "    <tr>\n",
       "      <th>0</th>\n",
       "      <td>val_0.JPEG</td>\n",
       "      <td>n03444034</td>\n",
       "      <td>0</td>\n",
       "      <td>32</td>\n",
       "      <td>44</td>\n",
       "      <td>62</td>\n",
       "    </tr>\n",
       "    <tr>\n",
       "      <th>1</th>\n",
       "      <td>val_1.JPEG</td>\n",
       "      <td>n04067472</td>\n",
       "      <td>52</td>\n",
       "      <td>55</td>\n",
       "      <td>57</td>\n",
       "      <td>59</td>\n",
       "    </tr>\n",
       "    <tr>\n",
       "      <th>2</th>\n",
       "      <td>val_2.JPEG</td>\n",
       "      <td>n04070727</td>\n",
       "      <td>4</td>\n",
       "      <td>0</td>\n",
       "      <td>60</td>\n",
       "      <td>55</td>\n",
       "    </tr>\n",
       "    <tr>\n",
       "      <th>3</th>\n",
       "      <td>val_3.JPEG</td>\n",
       "      <td>n02808440</td>\n",
       "      <td>3</td>\n",
       "      <td>3</td>\n",
       "      <td>63</td>\n",
       "      <td>63</td>\n",
       "    </tr>\n",
       "    <tr>\n",
       "      <th>4</th>\n",
       "      <td>val_4.JPEG</td>\n",
       "      <td>n02808440</td>\n",
       "      <td>9</td>\n",
       "      <td>27</td>\n",
       "      <td>63</td>\n",
       "      <td>48</td>\n",
       "    </tr>\n",
       "  </tbody>\n",
       "</table>\n",
       "</div>"
      ],
      "text/plain": [
       "         File      Class   X   Y   H   W\n",
       "0  val_0.JPEG  n03444034   0  32  44  62\n",
       "1  val_1.JPEG  n04067472  52  55  57  59\n",
       "2  val_2.JPEG  n04070727   4   0  60  55\n",
       "3  val_3.JPEG  n02808440   3   3  63  63\n",
       "4  val_4.JPEG  n02808440   9  27  63  48"
      ]
     },
     "execution_count": 32,
     "metadata": {},
     "output_type": "execute_result"
    }
   ],
   "source": [
    "val_data.head()"
   ]
  },
  {
   "cell_type": "code",
   "execution_count": 33,
   "metadata": {
    "colab": {
     "base_uri": "https://localhost:8080/",
     "height": 34
    },
    "colab_type": "code",
    "id": "v207p6iwB4Gs",
    "outputId": "c3bac90c-db71-49dd-9753-f247608cf320"
   },
   "outputs": [
    {
     "name": "stdout",
     "output_type": "stream",
     "text": [
      "Found 10000 validated image filenames belonging to 200 classes.\n"
     ]
    }
   ],
   "source": [
    "# val_data를 이용하여 validation dataset을 구성합니다. \n",
    "validation_generator = val_datagen.flow_from_dataframe(\n",
    "          dataframe=val_data,\n",
    "          directory=os.path.join(VAL_IMAGES_DIR, 'images'),\n",
    "          x_col=\"File\",\n",
    "          y_col=\"Class\",\n",
    "          target_size=(IMAGE_SIZE, IMAGE_SIZE),\n",
    "          class_mode=\"categorical\",\n",
    "          batch_size=BATCH_SIZE)"
   ]
  },
  {
   "cell_type": "code",
   "execution_count": 268,
   "metadata": {
    "colab": {},
    "colab_type": "code",
    "id": "ZRUb3QiSPR7l"
   },
   "outputs": [],
   "source": [
    "# SETP_SIZE는 한 epoch 당 몇개의 mini batch를 이용할 지 결정합니다. \n",
    "# 원래 STEP_SIZE_TRAIN으로 하면 한 epoch당 약 30분 정도 학습 시간이 소요됩니다.\n",
    "STEP_SIZE_TRAIN = 20 \n",
    "STEP_SIZE_VALID = 20"
   ]
  },
  {
   "cell_type": "code",
   "execution_count": 269,
   "metadata": {
    "colab": {
     "base_uri": "https://localhost:8080/",
     "height": 34
    },
    "colab_type": "code",
    "id": "9utq3KvSCGQh",
    "outputId": "5532c2f7-35e7-4c0e-cfd1-b6346781fdae",
    "scrolled": true
   },
   "outputs": [
    {
     "name": "stdout",
     "output_type": "stream",
     "text": [
      "Epoch 1/10\n",
      "20/20 [==============================] - 12s 614ms/step - loss: 4.4669 - accuracy: 0.1141 - val_loss: 3.9387 - val_accuracy: 0.1907\n",
      "Epoch 2/10\n",
      "20/20 [==============================] - 13s 628ms/step - loss: 4.5002 - accuracy: 0.1109 - val_loss: 3.8702 - val_accuracy: 0.2000\n",
      "Epoch 3/10\n",
      "20/20 [==============================] - 13s 627ms/step - loss: 4.4634 - accuracy: 0.1227 - val_loss: 3.8738 - val_accuracy: 0.1922\n",
      "Epoch 4/10\n",
      "20/20 [==============================] - 13s 639ms/step - loss: 4.3323 - accuracy: 0.1258 - val_loss: 3.7593 - val_accuracy: 0.2023\n",
      "Epoch 5/10\n",
      "20/20 [==============================] - 13s 628ms/step - loss: 4.2291 - accuracy: 0.1430 - val_loss: 3.6051 - val_accuracy: 0.2141\n",
      "Epoch 6/10\n",
      "20/20 [==============================] - 13s 632ms/step - loss: 4.2197 - accuracy: 0.1406 - val_loss: 3.6126 - val_accuracy: 0.2203\n",
      "Epoch 7/10\n",
      "20/20 [==============================] - 13s 627ms/step - loss: 4.1835 - accuracy: 0.1461 - val_loss: 3.6318 - val_accuracy: 0.2242\n",
      "Epoch 8/10\n",
      "20/20 [==============================] - 12s 620ms/step - loss: 4.1496 - accuracy: 0.1453 - val_loss: 3.6293 - val_accuracy: 0.2148\n",
      "Epoch 9/10\n",
      "20/20 [==============================] - 13s 627ms/step - loss: 4.0664 - accuracy: 0.1430 - val_loss: 3.5426 - val_accuracy: 0.2273\n",
      "Epoch 10/10\n",
      "20/20 [==============================] - 13s 629ms/step - loss: 4.0381 - accuracy: 0.1602 - val_loss: 3.5615 - val_accuracy: 0.2438\n"
     ]
    }
   ],
   "source": [
    "# train-set을 이용하여 모델을 학습하고 validation-set을 이용하여 모델을 평가합니다. \n",
    "history = model.fit_generator(\n",
    "      train_generator,\n",
    "      epochs=EPOCHS,\n",
    "      steps_per_epoch=STEP_SIZE_TRAIN,\n",
    "      validation_data=validation_generator,\n",
    "      validation_steps=STEP_SIZE_VALID,\n",
    "      verbose=1)"
   ]
  },
  {
   "cell_type": "code",
   "execution_count": 259,
   "metadata": {
    "colab": {
     "base_uri": "https://localhost:8080/",
     "height": 34
    },
    "colab_type": "code",
    "id": "Ar7u5jBXDWdx",
    "outputId": "70e3275b-ede5-45a8-aefe-66310ab39aae"
   },
   "outputs": [
    {
     "data": {
      "text/plain": [
       "[3.953439712524414, 0.20156249403953552]"
      ]
     },
     "execution_count": 259,
     "metadata": {},
     "output_type": "execute_result"
    }
   ],
   "source": [
    "# evaluate_generator를 이용하여 모델의 성능을 평가할 수 도 있습니다. \n",
    "model.evaluate_generator(generator=\n",
    "                         validation_generator, steps=STEP_SIZE_VALID)"
   ]
  },
  {
   "cell_type": "code",
   "execution_count": 260,
   "metadata": {
    "colab": {},
    "colab_type": "code",
    "id": "zQdM9SyMO77Q"
   },
   "outputs": [],
   "source": [
    "def plot_loss(history):\n",
    "    plt.plot(history.history['loss'],'-o')\n",
    "    plt.plot(history.history['val_loss'],'-o')\n",
    "    plt.title('Model Loss')\n",
    "    plt.ylabel('Loss')\n",
    "    plt.xlabel('Epoch')\n",
    "    plt.legend(['Train', 'Test'], loc=0)\n",
    "    \n",
    "def plot_acc(history):\n",
    "    plt.plot(history.history['accuracy'],'-o')\n",
    "    plt.plot(history.history['val_accuracy'],'-o')\n",
    "    plt.title('Model accuracy')\n",
    "    plt.ylabel('Accuracy')\n",
    "    plt.xlabel('Epoch')\n",
    "    plt.legend(['Train', 'Test'], loc=0)\n"
   ]
  },
  {
   "cell_type": "code",
   "execution_count": 261,
   "metadata": {
    "colab": {
     "base_uri": "https://localhost:8080/",
     "height": 574
    },
    "colab_type": "code",
    "id": "NQCnn33vOz57",
    "outputId": "c253c00b-b383-45c6-da34-8e73e96545c6"
   },
   "outputs": [
    {
     "data": {
      "image/png": "[encoded data removed]",
      "text/plain": [
       "<Figure size 432x288 with 1 Axes>"
      ]
     },
     "metadata": {
      "needs_background": "light"
     },
     "output_type": "display_data"
    },
    {
     "data": {
      "image/png": "[encoded data removed]",
      "text/plain": [
       "<Figure size 432x288 with 1 Axes>"
      ]
     },
     "metadata": {
      "needs_background": "light"
     },
     "output_type": "display_data"
    }
   ],
   "source": [
    "# 학습하는 동안 모델의 정확도와 손실도가 어떻게 변화하였는지 그래프로 확입합니다. \n",
    "plot_acc(history)\n",
    "plt.show()\n",
    "\n",
    "plot_loss(history)\n",
    "plt.show()"
   ]
  },
  {
   "cell_type": "markdown",
   "metadata": {
    "colab_type": "text",
    "id": "NALJH8lWZXh6"
   },
   "source": [
    "## Test-set에 모델 평가하기"
   ]
  },
  {
   "cell_type": "code",
   "execution_count": 39,
   "metadata": {
    "colab": {
     "base_uri": "https://localhost:8080/",
     "height": 34
    },
    "colab_type": "code",
    "id": "W-dfOQPNZaPr",
    "outputId": "8968b5f7-01f5-4aa3-f55c-a7b6937bcc7c"
   },
   "outputs": [
    {
     "name": "stderr",
     "output_type": "stream",
     "text": [
      "100%|██████████| 10000/10000 [00:29<00:00, 339.40it/s]\n"
     ]
    }
   ],
   "source": [
    "# test-set을 읽어와 images에 이미지 데이터, labels에 정답, names에 이미지 파일 이름을 저장합니다.\n",
    "images = []\n",
    "names = []\n",
    "\n",
    "\n",
    "for example in tqdm(os.listdir(os.path.join(TEST_IMAGES_DIR, 'images'))):\n",
    "  # print (example)\n",
    "  image_file = os.path.join(TEST_IMAGES_DIR, 'images', example)\n",
    "  image_data = mpimg.imread(image_file)\n",
    "\n",
    "  if (image_data.shape == (IMAGE_SIZE, IMAGE_SIZE, NUM_CHANNELS)):\n",
    "    images.append(image_data)\n",
    "    names.append(example)\n",
    "images = np.asarray(images)\n",
    "names = np.asarray(names)"
   ]
  },
  {
   "cell_type": "code",
   "execution_count": 40,
   "metadata": {
    "colab": {},
    "colab_type": "code",
    "id": "36v1j6AdakiS"
   },
   "outputs": [],
   "source": [
    "# 저장해놓은 데이터를 헷갈리지 않도록 test 붙은 변수에 복사합니다.\n",
    "test_images, test_files = images, names"
   ]
  },
  {
   "cell_type": "code",
   "execution_count": 150,
   "metadata": {
    "colab": {},
    "colab_type": "code",
    "id": "WI3tLkdna_uw"
   },
   "outputs": [],
   "source": [
    "# test-set image는 resnet50용 preproces_input을 사용하여 preprocess를 합니다.\n",
    "test_datagen = ImageDataGenerator(preprocessing_function=preprocess_input)"
   ]
  },
  {
   "cell_type": "code",
   "execution_count": 151,
   "metadata": {
    "colab": {},
    "colab_type": "code",
    "id": "Ri88e1e_eb6h"
   },
   "outputs": [],
   "source": [
    "# test-set에는 정답없이 이미지만 존재하기 때문에 데이터셋을 읽어오기 쉽도록 dataframe을 만듭니다. \n",
    "# File 컬럼에는 이미지 파일 이름이 들어가 있고, Class에는 가짜 label이 들어있습니다. \n",
    "test_data = pd.DataFrame(index=range(len(test_images)), columns=['File', 'Class'])\n",
    "\n",
    "test_data['File'] = test_files\n",
    "test_data['Class'] = 'n01443537' # Trash value"
   ]
  },
  {
   "cell_type": "code",
   "execution_count": 152,
   "metadata": {
    "colab": {},
    "colab_type": "code",
    "id": "BaioXSGkhP3E"
   },
   "outputs": [],
   "source": [
    "# 예측하기 쉽도록 test_data를 파일 이름 순으로 정렬합니다. \n",
    "test_data = test_data.sort_values(by=['File'])\n",
    "test_data = test_data.reset_index(drop=True)"
   ]
  },
  {
   "cell_type": "code",
   "execution_count": 250,
   "metadata": {
    "colab": {
     "base_uri": "https://localhost:8080/",
     "height": 34
    },
    "colab_type": "code",
    "id": "sCjLZ3mfbZVv",
    "outputId": "d4e9b090-4151-44e4-e591-671c3868654b"
   },
   "outputs": [
    {
     "name": "stdout",
     "output_type": "stream",
     "text": [
      "Found 9811 validated image filenames.\n"
     ]
    }
   ],
   "source": [
    "# test_data를 이용하여 test-set을 읽어옵니다. \n",
    "test_generator = test_datagen.flow_from_dataframe(\n",
    "          dataframe=test_data,\n",
    "          shuffle=False,\n",
    "          directory=os.path.join(TEST_IMAGES_DIR, 'images'),\n",
    "          x_col=\"File\",\n",
    "          y_col=\"Class\",\n",
    "          target_size=(IMAGE_SIZE, IMAGE_SIZE),\n",
    "          class_mode=None,\n",
    "          batch_size=16)"
   ]
  },
  {
   "cell_type": "code",
   "execution_count": 270,
   "metadata": {
    "colab": {},
    "colab_type": "code",
    "id": "XhBea80Vbdq3"
   },
   "outputs": [],
   "source": [
    "# test-set에 대하여 예측합니다. \n",
    "# preds = model.predict_generator(test_generator, steps = STEP_SIZE_TEST)\n",
    "preds = model.predict_generator(test_generator, steps=test_generator.n//16+1, workers=0)"
   ]
  },
  {
   "cell_type": "code",
   "execution_count": 271,
   "metadata": {
    "colab": {},
    "colab_type": "code",
    "id": "tK9vs34KcNDC"
   },
   "outputs": [],
   "source": [
    "# 모델에서 예측값은 200개의 클래스에 대한 확률로 나타나므로, 가장 확률이 높은 label의 index를 저장합니다. \n",
    "predicted_class_indices = np.argmax(preds, axis=1)"
   ]
  },
  {
   "cell_type": "code",
   "execution_count": 272,
   "metadata": {
    "colab": {
     "base_uri": "https://localhost:8080/",
     "height": 34
    },
    "colab_type": "code",
    "id": "WCSQ5aKlcYI-",
    "outputId": "12148b6d-bef9-4cee-a330-65daa05cd64f",
    "scrolled": true
   },
   "outputs": [
    {
     "data": {
      "text/plain": [
       "array([113, 190, 178, ...,  90,  97,  37])"
      ]
     },
     "execution_count": 272,
     "metadata": {},
     "output_type": "execute_result"
    }
   ],
   "source": [
    "predicted_class_indices"
   ]
  },
  {
   "cell_type": "code",
   "execution_count": 273,
   "metadata": {
    "colab": {},
    "colab_type": "code",
    "id": "Y0siRzYYcb9Z"
   },
   "outputs": [],
   "source": [
    "# index에 해당하는 label을 predictions에 저장합니다. \n",
    "labels = (train_generator.class_indices)\n",
    "labels = dict((v,k) for k,v in labels.items())\n",
    "predictions = [labels[k] for k in predicted_class_indices]"
   ]
  },
  {
   "cell_type": "code",
   "execution_count": 274,
   "metadata": {
    "colab": {},
    "colab_type": "code",
    "id": "pDZTfGJnf7_N"
   },
   "outputs": [],
   "source": [
    "# predictions를 이용하여 Class에 예측 label (class)를 저장합니다. \n",
    "test_data.loc[:len(predictions)-1, 'Class'] = predictions"
   ]
  },
  {
   "cell_type": "code",
   "execution_count": 275,
   "metadata": {
    "colab": {
     "base_uri": "https://localhost:8080/",
     "height": 281
    },
    "colab_type": "code",
    "id": "WPNFmRnMi6Sy",
    "outputId": "ee159998-1eda-4b70-80a2-9ece7eb1ef58"
   },
   "outputs": [
    {
     "data": {
      "image/png": "[encoded data removed]",
      "text/plain": [
       "<Figure size 1080x1080 with 9 Axes>"
      ]
     },
     "metadata": {
      "needs_background": "light"
     },
     "output_type": "display_data"
    }
   ],
   "source": [
    "# 그림과 그림에 해당하는 예측값을 나타냅니다. \n",
    "cnt = 0\n",
    "plt.figure(figsize=(15,15))\n",
    "for name, label in zip(test_data['File'].values, test_data['Class'].values):\n",
    "    ax = plt.subplot(3,3,cnt+1)\n",
    "    image_data = Image.open(os.path.join(TEST_IMAGES_DIR, 'images', name))\n",
    "    ax.imshow(np.asarray(image_data))\n",
    "    ax.set_title(label2word[label])\n",
    "    if cnt >= 8:\n",
    "        break\n",
    "    cnt += 1"
   ]
  },
  {
   "cell_type": "code",
   "execution_count": null,
   "metadata": {},
   "outputs": [],
   "source": []
  },
  {
   "cell_type": "code",
   "execution_count": null,
   "metadata": {},
   "outputs": [],
   "source": []
  },
  {
   "cell_type": "code",
   "execution_count": null,
   "metadata": {},
   "outputs": [],
   "source": []
  }
 ],
 "metadata": {
  "colab": {
   "collapsed_sections": [],
   "name": "수업실습.ipynb",
   "provenance": [],
   "version": "0.3.2"
  },
  "kernelspec": {
   "display_name": "Python 3",
   "language": "python",
   "name": "python3"
  },
  "language_info": {
   "codemirror_mode": {
    "name": "ipython",
    "version": 3
   },
   "file_extension": ".py",
   "mimetype": "text/x-python",
   "name": "python",
   "nbconvert_exporter": "python",
   "pygments_lexer": "ipython3",
   "version": "3.7.6"
  }
 },
 "nbformat": 4,
 "nbformat_minor": 1
}
